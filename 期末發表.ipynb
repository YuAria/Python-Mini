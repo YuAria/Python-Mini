{
 "cells": [
  {
   "cell_type": "markdown",
   "metadata": {},
   "source": [
    "# 期末發表 - 用神經網路分辨出圖片裡衣服的顏色\n",
    "\n",
    "## 步驟:\n",
    "### 0. 決定我們要辨識哪些顏色的衣服\n",
    "### 1. 使用網路爬蟲從Google下載大量各種衣服顏色圖片\n",
    "### 2. 用OpenCV為每張圖片縮放/加邊框 – 整理成可以訓練神經網路的格式\n",
    "### 3. 將資料集標好X, Y，分成訓練/測試資料\n",
    "### 4. 建立神經網路的架構\n",
    "### 5. 將訓練資料餵入神經網路做訓練\n",
    "### 6. 用測試資料測試神經網路分類的正確率\n",
    "\n",
    "## 發表前會做的事: 做PPT，新增多一些圖片淺顯易懂"
   ]
  },
  {
   "cell_type": "markdown",
   "metadata": {},
   "source": [
    "## 0. 決定我們要辨識哪些顏色的衣服"
   ]
  },
  {
   "cell_type": "code",
   "execution_count": null,
   "metadata": {},
   "outputs": [],
   "source": [
    "# 這次我選了一些基本的顏色，總共11種\n",
    "# 黑色，白色，灰色，紅色，粉紅色，紫色，黃色，藍色，深藍色，綠色，咖啡色"
   ]
  },
  {
   "cell_type": "markdown",
   "metadata": {},
   "source": [
    "## 1. 使用網路爬蟲從Google下載大量各種衣服顏色圖片"
   ]
  },
  {
   "cell_type": "markdown",
   "metadata": {},
   "source": [
    "### 網址: https://google-images-download.readthedocs.io/en/latest/"
   ]
  },
  {
   "cell_type": "code",
   "execution_count": null,
   "metadata": {},
   "outputs": [],
   "source": [
    "!pip install google_images_download #安裝套件 (或用終端機下載)"
   ]
  },
  {
   "cell_type": "code",
   "execution_count": null,
   "metadata": {},
   "outputs": [],
   "source": [
    "# 在終端機裡面輸入程式碼\n",
    "# googleimagesdownload -pk \"black , navy blue, ...\" -k \"t shirt\" -l 200 -cd \"C:/Users/Max/Downloads/chromedriver.exe\""
   ]
  },
  {
   "cell_type": "code",
   "execution_count": null,
   "metadata": {},
   "outputs": [],
   "source": [
    "# 上面 -pk 為Prefix，此例跟 -k 合用為搜尋 \"black t shirt\" 及 \"blue t shirt\" 的圖片。\n",
    "# -l 為下載張數 (但有些可能沒辦法下載成功)，超過100張時需要安裝chromedriver並在-cd後面打上.exe檔的位置"
   ]
  },
  {
   "cell_type": "markdown",
   "metadata": {},
   "source": [
    "### 經過適當整理之後的圖片資料集\n",
    "<img src=\"T-shirt 1.png\">\n",
    "\n",
    "### 總共11個資料夾 (Pics 為之後圖片前處理結束時圖片存放位置)\n",
    "<img src=\"T-shirt 2.png\">"
   ]
  },
  {
   "cell_type": "markdown",
   "metadata": {},
   "source": [
    "## 2. 用OpenCV為每張圖片縮放/加邊框 – 整理成可以訓練神經網路的格式"
   ]
  },
  {
   "cell_type": "code",
   "execution_count": 1,
   "metadata": {},
   "outputs": [],
   "source": [
    "# 必要套件\n",
    "import os\n",
    "import cv2"
   ]
  },
  {
   "cell_type": "markdown",
   "metadata": {},
   "source": [
    "### 匯入圖片 -> 縮放圖片 -> 用白色填滿比較短的那邊 -> 匯出至一個新的資料夾"
   ]
  },
  {
   "cell_type": "code",
   "execution_count": null,
   "metadata": {},
   "outputs": [],
   "source": [
    "# 資料集中衣服的所有顏色\n",
    "folder = \"E:\\Training Pics\"\n",
    "shirt_colors = os.listdir(folder)\n",
    "\n",
    "#Image number\n",
    "img_no = 0\n",
    "\n",
    "# 圖片經前處理之後應產生100x100px的圖片\n",
    "desired_size = 100\n",
    "\n",
    "# Root Directory here\n",
    "for shirt_color in shirt_colors:\n",
    "    directory = os.path.join(folder, shirt_color)\n",
    "    os.chdir(directory)  #os.chdir: Change Directory\n",
    "    images = os.listdir(path = directory)\n",
    "    \n",
    "    # 列出每個資料夾裡面的所有圖片之後，一個一個圖片做前處理\n",
    "    for image in images:\n",
    "    \n",
    "        # 匯入圖片\n",
    "        im = cv2.imread(image)\n",
    "        \n",
    "        # 這邊用try/except以免系統遇到例外而中止\n",
    "        try:\n",
    "    \n",
    "            # Get size of image, old_size is in (height, width) format\n",
    "            old_size = old_height, old_width = im.shape[:2]\n",
    "            \n",
    "            #算出縮放比例 (圖片長邊縮至100px)\n",
    "            ratio = float(desired_size/max(old_size))\n",
    "\n",
    "            new_height, new_width = int(old_height*ratio), int(old_width*ratio)\n",
    "\n",
    "            # resize should be in (width, height) format\n",
    "            img = cv2.resize(im, (new_width, new_height))\n",
    "\n",
    "            # 使用 cv2.copyMakeBorder 加白色邊框\n",
    "            left = (desired_size-new_width)//2\n",
    "            right = desired_size-(new_width+left)\n",
    "            top = (desired_size-new_height)//2\n",
    "            bottom = desired_size-(new_height+top)\n",
    "            color = [255, 255, 255] # white R,G,B\n",
    "\n",
    "            img2 = cv2.copyMakeBorder(img, top, bottom, left, right, cv2.BORDER_CONSTANT, value = color)\n",
    "        \n",
    "    \n",
    "            # 進行圖片輸出，檔名為 \"衣服顏色\"_\"編號\".jpg\n",
    "            img_no += 1\n",
    "            img_name = str(shirt_color) + \"_\" + str(img_no) +\".jpg\" #Modify name each pic\n",
    "            cv2.imwrite(img_name, img2)\n",
    "    \n",
    "            print(f\"Created: {img_name} from {image}\")\n",
    "        \n",
    "        except:\n",
    "            \n",
    "            print(f\"Error: Cannot convert {image}\")\n",
    "        \n",
    "    img_no = 0"
   ]
  },
  {
   "cell_type": "markdown",
   "metadata": {},
   "source": [
    "### 結果展示"
   ]
  },
  {
   "cell_type": "markdown",
   "metadata": {},
   "source": [
    "<img src = \"T-shirt 3.png\">"
   ]
  },
  {
   "cell_type": "markdown",
   "metadata": {},
   "source": [
    "## 3. 將資料集標好X, Y，分成訓練/測試資料"
   ]
  },
  {
   "cell_type": "markdown",
   "metadata": {},
   "source": [
    "### X: 衣服圖片(100 x 100 像素)\n",
    "### Y: 衣服顏色 (11種顏色之一)"
   ]
  },
  {
   "cell_type": "code",
   "execution_count": 2,
   "metadata": {},
   "outputs": [
    {
     "name": "stderr",
     "output_type": "stream",
     "text": [
      "Using TensorFlow backend.\n"
     ]
    }
   ],
   "source": [
    "# 必要套件\n",
    "%matplotlib inline\n",
    "import numpy as np\n",
    "import matplotlib.pyplot as plt\n",
    "# import os\n",
    "# import cv2\n",
    "import keras"
   ]
  },
  {
   "cell_type": "code",
   "execution_count": 3,
   "metadata": {},
   "outputs": [],
   "source": [
    "# 設定好圖片資料夾位置及顏色\n",
    "DIRECTORY = \"E:/Training Pics/Pics\"\n",
    "CATEGORIES = [\"Black\", \"Blue\", \"Brown\", \"Gray\", \"Green\", \"Navy Blue\", \"Pink\", \"Purple\", \"Red\", \"White\", \"Yellow\"]"
   ]
  },
  {
   "cell_type": "markdown",
   "metadata": {},
   "source": [
    "### 在執行下面的程式碼之前，已將11種顏色各130張前處理好的衣服圖片放入資料夾裡"
   ]
  },
  {
   "cell_type": "code",
   "execution_count": 15,
   "metadata": {},
   "outputs": [],
   "source": [
    "# 這邊產生X，利用cv2.imread將圖片存成(100, 100, 3)的array，變成list，將全部照片合進X後再轉回array\n",
    "X = []\n",
    "\n",
    "for image in os.listdir(DIRECTORY):\n",
    "    img_array = cv2.imread(os.path.join(DIRECTORY, image))\n",
    "    img_list = img_array.tolist()\n",
    "    X.append(img_list)\n",
    "        \n",
    "X = np.array(X)"
   ]
  },
  {
   "cell_type": "code",
   "execution_count": null,
   "metadata": {},
   "outputs": [],
   "source": [
    "# 這邊產生Y，Y為衣服顏色轉換成數字\n",
    "\"\"\"\n",
    "\"Black\" : 0\n",
    "\"Blue\" : 1\n",
    "\"Brown\" : 2\n",
    "\"Gray\" : 3\n",
    "\"Green\" : 4\n",
    "\"Navy Blue\" : 5\n",
    "\"Pink\" : 6\n",
    "\"Purple\" : 7\n",
    "\"Red\" : 8\n",
    "\"White\" : 9\n",
    "\"Yellow\" : 10\n",
    "\"\"\""
   ]
  },
  {
   "cell_type": "code",
   "execution_count": 10,
   "metadata": {},
   "outputs": [],
   "source": [
    "# 因為在資料夾裡的圖片已經都照上面的顏色順序排好，所以可以安心的造一個0~10重複130次的array，但如果沒有排則不能這麼做\n",
    "Y = []\n",
    "for i in range(11):\n",
    "    Y.append([i]*130)\n",
    "    \n",
    "Y = np.array(Y)\n",
    "Y = Y.reshape(1430, ) #Reshape成接下來可供訓練的格式"
   ]
  },
  {
   "cell_type": "code",
   "execution_count": 16,
   "metadata": {},
   "outputs": [
    {
     "data": {
      "text/plain": [
       "(1430, 100, 100, 3)"
      ]
     },
     "execution_count": 16,
     "metadata": {},
     "output_type": "execute_result"
    }
   ],
   "source": [
    "#確認一下形狀\n",
    "X.shape"
   ]
  },
  {
   "cell_type": "code",
   "execution_count": 17,
   "metadata": {},
   "outputs": [
    {
     "data": {
      "text/plain": [
       "(1430,)"
      ]
     },
     "execution_count": 17,
     "metadata": {},
     "output_type": "execute_result"
    }
   ],
   "source": [
    "Y.shape"
   ]
  },
  {
   "cell_type": "markdown",
   "metadata": {},
   "source": [
    "### 分成訓練/測試資料"
   ]
  },
  {
   "cell_type": "code",
   "execution_count": 18,
   "metadata": {},
   "outputs": [],
   "source": [
    "from sklearn.model_selection import train_test_split"
   ]
  },
  {
   "cell_type": "code",
   "execution_count": 19,
   "metadata": {},
   "outputs": [],
   "source": [
    "X_train, X_test, Y_train, Y_test = train_test_split(X, Y, test_size = 0.2, random_state = 50)"
   ]
  },
  {
   "cell_type": "code",
   "execution_count": 20,
   "metadata": {},
   "outputs": [
    {
     "data": {
      "text/plain": [
       "(1144, 100, 100, 3)"
      ]
     },
     "execution_count": 20,
     "metadata": {},
     "output_type": "execute_result"
    }
   ],
   "source": [
    "#確認一下形狀\n",
    "X_train.shape"
   ]
  },
  {
   "cell_type": "code",
   "execution_count": 21,
   "metadata": {},
   "outputs": [
    {
     "data": {
      "text/plain": [
       "(1144,)"
      ]
     },
     "execution_count": 21,
     "metadata": {},
     "output_type": "execute_result"
    }
   ],
   "source": [
    "Y_train.shape"
   ]
  },
  {
   "cell_type": "code",
   "execution_count": 22,
   "metadata": {},
   "outputs": [],
   "source": [
    "# 原本Array裡面的元素都是0~255，訓練神經網路時裡面的元素需要是0~1，所以整個矩陣除以255\n",
    "X_train = X_train/255\n",
    "X_test = X_test/255"
   ]
  },
  {
   "cell_type": "code",
   "execution_count": 23,
   "metadata": {},
   "outputs": [],
   "source": [
    "from keras.utils import to_categorical"
   ]
  },
  {
   "cell_type": "code",
   "execution_count": 24,
   "metadata": {},
   "outputs": [],
   "source": [
    "# One-hot encoding\n",
    "Y_train = to_categorical(Y_train)\n",
    "Y_test = to_categorical(Y_test)"
   ]
  },
  {
   "cell_type": "markdown",
   "metadata": {},
   "source": [
    "### 4. 建立神經網路的架構"
   ]
  },
  {
   "cell_type": "code",
   "execution_count": 25,
   "metadata": {},
   "outputs": [],
   "source": [
    "#必要套件\n",
    "from keras.models import Sequential\n",
    "from keras.layers import Conv2D, Dense, MaxPool2D, Activation, Flatten\n",
    "from keras.optimizers import Adam, SGD"
   ]
  },
  {
   "cell_type": "code",
   "execution_count": 26,
   "metadata": {},
   "outputs": [
    {
     "name": "stdout",
     "output_type": "stream",
     "text": [
      "WARNING:tensorflow:From C:\\Users\\Max\\Anaconda3\\lib\\site-packages\\keras\\backend\\tensorflow_backend.py:68: The name tf.get_default_graph is deprecated. Please use tf.compat.v1.get_default_graph instead.\n",
      "\n"
     ]
    }
   ],
   "source": [
    "model = Sequential()"
   ]
  },
  {
   "cell_type": "code",
   "execution_count": 27,
   "metadata": {},
   "outputs": [
    {
     "name": "stdout",
     "output_type": "stream",
     "text": [
      "WARNING:tensorflow:From C:\\Users\\Max\\Anaconda3\\lib\\site-packages\\keras\\backend\\tensorflow_backend.py:508: The name tf.placeholder is deprecated. Please use tf.compat.v1.placeholder instead.\n",
      "\n",
      "WARNING:tensorflow:From C:\\Users\\Max\\Anaconda3\\lib\\site-packages\\keras\\backend\\tensorflow_backend.py:3837: The name tf.random_uniform is deprecated. Please use tf.random.uniform instead.\n",
      "\n"
     ]
    }
   ],
   "source": [
    "# 加入第一層時需要設定input形狀，這邊是(100, 100, 3)\n",
    "model.add(Conv2D(8, (3, 3), padding = 'same', input_shape = (100, 100, 3), activation = 'relu'))"
   ]
  },
  {
   "cell_type": "code",
   "execution_count": 28,
   "metadata": {},
   "outputs": [],
   "source": [
    "model.add(Conv2D(8, (3, 3), padding = 'same', activation = 'relu'))"
   ]
  },
  {
   "cell_type": "code",
   "execution_count": 29,
   "metadata": {},
   "outputs": [
    {
     "name": "stdout",
     "output_type": "stream",
     "text": [
      "WARNING:tensorflow:From C:\\Users\\Max\\Anaconda3\\lib\\site-packages\\keras\\backend\\tensorflow_backend.py:3661: The name tf.nn.max_pool is deprecated. Please use tf.nn.max_pool2d instead.\n",
      "\n"
     ]
    }
   ],
   "source": [
    "model.add(MaxPool2D(pool_size = (2, 2)))"
   ]
  },
  {
   "cell_type": "code",
   "execution_count": 30,
   "metadata": {},
   "outputs": [],
   "source": [
    "model.add(Conv2D(16, (3, 3), padding = 'same', activation = 'relu'))\n",
    "model.add(Conv2D(16, (3, 3), padding = 'same', activation = 'relu'))"
   ]
  },
  {
   "cell_type": "code",
   "execution_count": 31,
   "metadata": {},
   "outputs": [],
   "source": [
    "model.add(MaxPool2D(pool_size = (2, 2)))"
   ]
  },
  {
   "cell_type": "code",
   "execution_count": 32,
   "metadata": {},
   "outputs": [],
   "source": [
    "model.add(Conv2D(32, (3, 3), padding = 'same', activation = 'relu'))\n",
    "model.add(Conv2D(32, (3, 3), padding = 'same', activation = 'relu'))"
   ]
  },
  {
   "cell_type": "code",
   "execution_count": 33,
   "metadata": {},
   "outputs": [],
   "source": [
    "model.add(MaxPool2D(pool_size = (2, 2)))"
   ]
  },
  {
   "cell_type": "code",
   "execution_count": 34,
   "metadata": {},
   "outputs": [],
   "source": [
    "model.add(Flatten())"
   ]
  },
  {
   "cell_type": "code",
   "execution_count": 35,
   "metadata": {},
   "outputs": [],
   "source": [
    "model.add(Dense(32, activation = 'relu'))\n",
    "model.add(Dense(32, activation = 'relu'))\n",
    "model.add(Dense(11, activation = 'softmax'))"
   ]
  },
  {
   "cell_type": "code",
   "execution_count": 36,
   "metadata": {},
   "outputs": [
    {
     "name": "stdout",
     "output_type": "stream",
     "text": [
      "WARNING:tensorflow:From C:\\Users\\Max\\Anaconda3\\lib\\site-packages\\keras\\optimizers.py:757: The name tf.train.Optimizer is deprecated. Please use tf.compat.v1.train.Optimizer instead.\n",
      "\n",
      "WARNING:tensorflow:From C:\\Users\\Max\\Anaconda3\\lib\\site-packages\\keras\\backend\\tensorflow_backend.py:1490: The name tf.log is deprecated. Please use tf.math.log instead.\n",
      "\n"
     ]
    }
   ],
   "source": [
    "model.compile(loss = \"logcosh\", optimizer=Adam(lr = 0.001), metrics = ['accuracy'])"
   ]
  },
  {
   "cell_type": "code",
   "execution_count": 37,
   "metadata": {},
   "outputs": [
    {
     "name": "stdout",
     "output_type": "stream",
     "text": [
      "_________________________________________________________________\n",
      "Layer (type)                 Output Shape              Param #   \n",
      "=================================================================\n",
      "conv2d_1 (Conv2D)            (None, 100, 100, 8)       224       \n",
      "_________________________________________________________________\n",
      "conv2d_2 (Conv2D)            (None, 100, 100, 8)       584       \n",
      "_________________________________________________________________\n",
      "max_pooling2d_1 (MaxPooling2 (None, 50, 50, 8)         0         \n",
      "_________________________________________________________________\n",
      "conv2d_3 (Conv2D)            (None, 50, 50, 16)        1168      \n",
      "_________________________________________________________________\n",
      "conv2d_4 (Conv2D)            (None, 50, 50, 16)        2320      \n",
      "_________________________________________________________________\n",
      "max_pooling2d_2 (MaxPooling2 (None, 25, 25, 16)        0         \n",
      "_________________________________________________________________\n",
      "conv2d_5 (Conv2D)            (None, 25, 25, 32)        4640      \n",
      "_________________________________________________________________\n",
      "conv2d_6 (Conv2D)            (None, 25, 25, 32)        9248      \n",
      "_________________________________________________________________\n",
      "max_pooling2d_3 (MaxPooling2 (None, 12, 12, 32)        0         \n",
      "_________________________________________________________________\n",
      "flatten_1 (Flatten)          (None, 4608)              0         \n",
      "_________________________________________________________________\n",
      "dense_1 (Dense)              (None, 32)                147488    \n",
      "_________________________________________________________________\n",
      "dense_2 (Dense)              (None, 32)                1056      \n",
      "_________________________________________________________________\n",
      "dense_3 (Dense)              (None, 11)                363       \n",
      "=================================================================\n",
      "Total params: 167,091\n",
      "Trainable params: 167,091\n",
      "Non-trainable params: 0\n",
      "_________________________________________________________________\n"
     ]
    }
   ],
   "source": [
    "# 查看模型架構\n",
    "model.summary()"
   ]
  },
  {
   "cell_type": "markdown",
   "metadata": {},
   "source": [
    "### 5. 將訓練資料餵入神經網路做訓練"
   ]
  },
  {
   "cell_type": "code",
   "execution_count": 38,
   "metadata": {},
   "outputs": [
    {
     "name": "stdout",
     "output_type": "stream",
     "text": [
      "WARNING:tensorflow:From C:\\Users\\Max\\Anaconda3\\lib\\site-packages\\keras\\backend\\tensorflow_backend.py:977: The name tf.assign_add is deprecated. Please use tf.compat.v1.assign_add instead.\n",
      "\n",
      "Epoch 1/20\n",
      "1144/1144 [==============================] - 15s 13ms/step - loss: 0.0358 - acc: 0.1425\n",
      "Epoch 2/20\n",
      "1144/1144 [==============================] - 3s 2ms/step - loss: 0.0337 - acc: 0.2640\n",
      "Epoch 3/20\n",
      "1144/1144 [==============================] - 3s 3ms/step - loss: 0.0327 - acc: 0.3173\n",
      "Epoch 4/20\n",
      "1144/1144 [==============================] - 3s 2ms/step - loss: 0.0306 - acc: 0.3907\n",
      "Epoch 5/20\n",
      "1144/1144 [==============================] - 3s 3ms/step - loss: 0.0284 - acc: 0.4607\n",
      "Epoch 6/20\n",
      "1144/1144 [==============================] - 3s 3ms/step - loss: 0.0266 - acc: 0.4921\n",
      "Epoch 7/20\n",
      "1144/1144 [==============================] - 3s 2ms/step - loss: 0.0228 - acc: 0.5883\n",
      "Epoch 8/20\n",
      "1144/1144 [==============================] - 3s 2ms/step - loss: 0.0223 - acc: 0.6110\n",
      "Epoch 9/20\n",
      "1144/1144 [==============================] - 3s 3ms/step - loss: 0.0209 - acc: 0.6425\n",
      "Epoch 10/20\n",
      "1144/1144 [==============================] - 3s 3ms/step - loss: 0.0186 - acc: 0.6932\n",
      "Epoch 11/20\n",
      "1144/1144 [==============================] - 3s 2ms/step - loss: 0.0181 - acc: 0.6967\n",
      "Epoch 12/20\n",
      "1144/1144 [==============================] - 3s 3ms/step - loss: 0.0157 - acc: 0.7491\n",
      "Epoch 13/20\n",
      "1144/1144 [==============================] - 3s 2ms/step - loss: 0.0140 - acc: 0.7753\n",
      "Epoch 14/20\n",
      "1144/1144 [==============================] - 3s 2ms/step - loss: 0.0139 - acc: 0.7823\n",
      "Epoch 15/20\n",
      "1144/1144 [==============================] - 3s 3ms/step - loss: 0.0136 - acc: 0.7780\n",
      "Epoch 16/20\n",
      "1144/1144 [==============================] - 3s 2ms/step - loss: 0.0131 - acc: 0.7867\n",
      "Epoch 17/20\n",
      "1144/1144 [==============================] - 3s 2ms/step - loss: 0.0219 - acc: 0.6198\n",
      "Epoch 18/20\n",
      "1144/1144 [==============================] - 3s 2ms/step - loss: 0.0128 - acc: 0.7972\n",
      "Epoch 19/20\n",
      "1144/1144 [==============================] - 3s 2ms/step - loss: 0.0126 - acc: 0.8016\n",
      "Epoch 20/20\n",
      "1144/1144 [==============================] - 3s 2ms/step - loss: 0.0110 - acc: 0.8304\n"
     ]
    },
    {
     "data": {
      "text/plain": [
       "<keras.callbacks.History at 0x1a71b84f780>"
      ]
     },
     "execution_count": 38,
     "metadata": {},
     "output_type": "execute_result"
    }
   ],
   "source": [
    "# 餵入 X_train, Y_train\n",
    "model.fit(X_train, Y_train, batch_size = 20, epochs = 20)"
   ]
  },
  {
   "cell_type": "markdown",
   "metadata": {},
   "source": [
    "### 6. 用測試資料測試神經網路分類的正確率"
   ]
  },
  {
   "cell_type": "code",
   "execution_count": 39,
   "metadata": {},
   "outputs": [],
   "source": [
    "# 使用訓練好的神經網路幫測試資料分類\n",
    "Y_predict = model.predict_classes(X_test)"
   ]
  },
  {
   "cell_type": "code",
   "execution_count": 40,
   "metadata": {},
   "outputs": [
    {
     "name": "stdout",
     "output_type": "stream",
     "text": [
      "286/286 [==============================] - 0s 1ms/step\n",
      "Accuracy: 0.7412587391746628\n"
     ]
    }
   ],
   "source": [
    "# 查看測試資料分類正確率\n",
    "score = model.evaluate(X_test, Y_test)\n",
    "print(f\"Accuracy: {score[1]}\")"
   ]
  },
  {
   "cell_type": "markdown",
   "metadata": {},
   "source": [
    "### 7. 展示成果"
   ]
  },
  {
   "cell_type": "code",
   "execution_count": 66,
   "metadata": {},
   "outputs": [
    {
     "data": {
      "image/png": "[encoded data removed]",
      "text/plain": [
       "<Figure size 1440x1440 with 5 Axes>"
      ]
     },
     "metadata": {
      "needs_background": "light"
     },
     "output_type": "display_data"
    }
   ],
   "source": [
    "num = np.random.randint(1, 286, 5)\n",
    "plt.figure(figsize=(20, 20))\n",
    "for i in range(5):\n",
    "    plt.subplot(1,5,i+1)\n",
    "    X_pixels = X_test[num[i]].reshape(100, 100, 3)[:,:,::-1]\n",
    "    plt.imshow(X_pixels)\n",
    "    plt.title(CATEGORIES[Y_predict[num[i]]])\n",
    "    plt.axis(\"off\")"
   ]
  },
  {
   "cell_type": "code",
   "execution_count": null,
   "metadata": {},
   "outputs": [],
   "source": []
  }
 ],
 "metadata": {
  "kernelspec": {
   "display_name": "Python 3",
   "language": "python",
   "name": "python3"
  },
  "language_info": {
   "codemirror_mode": {
    "name": "ipython",
    "version": 3
   },
   "file_extension": ".py",
   "mimetype": "text/x-python",
   "name": "python",
   "nbconvert_exporter": "python",
   "pygments_lexer": "ipython3",
   "version": "3.6.5"
  }
 },
 "nbformat": 4,
 "nbformat_minor": 2
}
