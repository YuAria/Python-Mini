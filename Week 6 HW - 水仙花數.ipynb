{
 "cells": [
  {
   "cell_type": "markdown",
   "metadata": {},
   "source": [
    "# 水仙花數(Narcissistic number)\n",
    "### 一個N位非負整數，其各位數字的N次方和等於該數本身者，稱為水仙花數。"
   ]
  },
  {
   "cell_type": "code",
   "execution_count": 22,
   "metadata": {},
   "outputs": [],
   "source": [
    "def narcissistic(start, end):\n",
    "    count = 0\n",
    "    number = start\n",
    "    while number <= end:\n",
    "        sum = 0\n",
    "        y = list(str(number))\n",
    "        power = len(y)\n",
    "        for i in y:\n",
    "            sum+=(int(i)**power)\n",
    "        if sum == number:\n",
    "            count += 1\n",
    "            for i in range(len(y)):\n",
    "                y[i] = f\"{y[i]}^{power}\"\n",
    "            add = ' + '.join(y)\n",
    "            print(f\"{number} = {add}\")       \n",
    "        number+=1\n",
    "    print(f\"在 {start} 到 {end} 的範圍內共找到 {count} 個水仙花數\")"
   ]
  },
  {
   "cell_type": "code",
   "execution_count": 23,
   "metadata": {},
   "outputs": [
    {
     "name": "stdout",
     "output_type": "stream",
     "text": [
      "153 = 1^3 + 5^3 + 3^3\n",
      "370 = 3^3 + 7^3 + 0^3\n",
      "371 = 3^3 + 7^3 + 1^3\n",
      "407 = 4^3 + 0^3 + 7^3\n",
      "1634 = 1^4 + 6^4 + 3^4 + 4^4\n",
      "8208 = 8^4 + 2^4 + 0^4 + 8^4\n",
      "9474 = 9^4 + 4^4 + 7^4 + 4^4\n",
      "54748 = 5^5 + 4^5 + 7^5 + 4^5 + 8^5\n",
      "92727 = 9^5 + 2^5 + 7^5 + 2^5 + 7^5\n",
      "93084 = 9^5 + 3^5 + 0^5 + 8^5 + 4^5\n",
      "548834 = 5^6 + 4^6 + 8^6 + 8^6 + 3^6 + 4^6\n",
      "在 100 到 1000000 的範圍內共找到 11 個水仙花數\n"
     ]
    }
   ],
   "source": [
    "narcissistic(100, 1000000)"
   ]
  }
 ],
 "metadata": {
  "kernelspec": {
   "display_name": "Python 3",
   "language": "python",
   "name": "python3"
  },
  "language_info": {
   "codemirror_mode": {
    "name": "ipython",
    "version": 3
   },
   "file_extension": ".py",
   "mimetype": "text/x-python",
   "name": "python",
   "nbconvert_exporter": "python",
   "pygments_lexer": "ipython3",
   "version": "3.6.5"
  }
 },
 "nbformat": 4,
 "nbformat_minor": 2
}
