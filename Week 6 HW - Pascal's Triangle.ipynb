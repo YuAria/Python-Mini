{
 "cells": [
  {
   "cell_type": "markdown",
   "metadata": {},
   "source": [
    "# 巴斯卡三角形"
   ]
  },
  {
   "cell_type": "code",
   "execution_count": 1,
   "metadata": {},
   "outputs": [],
   "source": [
    "import numpy as np\n",
    "from IPython.display import Markdown"
   ]
  },
  {
   "cell_type": "code",
   "execution_count": 2,
   "metadata": {},
   "outputs": [],
   "source": [
    "stringify = lambda a: f\"{str(a):^5}\" #輸出時需要用到的公式(目的是使數字置中，輸出好看）"
   ]
  },
  {
   "cell_type": "code",
   "execution_count": 3,
   "metadata": {},
   "outputs": [],
   "source": [
    "def pascals_triangle(x):\n",
    "    \n",
    "    #此處設計Title\n",
    "    title_name = f\"# 這是{x}層的巴斯卡三角形\"\n",
    "    title = Markdown(title_name)\n",
    "    display(title)\n",
    "    \n",
    "    #此處求出三角形內的數字\n",
    "    global tri_numbers\n",
    "    tri_numbers = [[1],[1,1]] #前兩層都為1，可以直接先加入list裡面\n",
    "    for i in range(2, x):\n",
    "        line = []\n",
    "        line.append(1)\n",
    "        for j in range(len(tri_numbers[i-1])-1):\n",
    "            line.append(tri_numbers[i-1][j]+tri_numbers[i-1][j+1])\n",
    "        line.append(1)\n",
    "        tri_numbers.append(line)\n",
    "    \n",
    "    #求出數字後，再用F-string的方式製造輸出\n",
    "    for i in range(x):\n",
    "        tri_numbers[i] = list(map(stringify, tri_numbers[i]))\n",
    "        string = ' '.join(tri_numbers[i])\n",
    "        print(f\"{string:^130}\")"
   ]
  },
  {
   "cell_type": "code",
   "execution_count": 4,
   "metadata": {},
   "outputs": [
    {
     "data": {
      "text/markdown": [
       "# 這是18層的巴斯卡三角形"
      ],
      "text/plain": [
       "<IPython.core.display.Markdown object>"
      ]
     },
     "metadata": {},
     "output_type": "display_data"
    },
    {
     "name": "stdout",
     "output_type": "stream",
     "text": [
      "                                                                1                                                                 \n",
      "                                                             1     1                                                              \n",
      "                                                          1     2     1                                                           \n",
      "                                                       1     3     3     1                                                        \n",
      "                                                    1     4     6     4     1                                                     \n",
      "                                                 1     5    10    10     5     1                                                  \n",
      "                                              1     6    15    20    15     6     1                                               \n",
      "                                           1     7    21    35    35    21     7     1                                            \n",
      "                                        1     8    28    56    70    56    28     8     1                                         \n",
      "                                     1     9    36    84    126   126   84    36     9     1                                      \n",
      "                                  1    10    45    120   210   252   210   120   45    10     1                                   \n",
      "                               1    11    55    165   330   462   462   330   165   55    11     1                                \n",
      "                            1    12    66    220   495   792   924   792   495   220   66    12     1                             \n",
      "                         1    13    78    286   715  1287  1716  1716  1287   715   286   78    13     1                          \n",
      "                      1    14    91    364  1001  2002  3003  3432  3003  2002  1001   364   91    14     1                       \n",
      "                   1    15    105   455  1365  3003  5005  6435  6435  5005  3003  1365   455   105   15     1                    \n",
      "                1    16    120   560  1820  4368  8008  11440 12870 11440 8008  4368  1820   560   120   16     1                 \n",
      "             1    17    136   680  2380  6188  12376 19448 24310 24310 19448 12376 6188  2380   680   136   17     1              \n"
     ]
    }
   ],
   "source": [
    "pascals_triangle(18)"
   ]
  },
  {
   "cell_type": "code",
   "execution_count": null,
   "metadata": {},
   "outputs": [],
   "source": []
  }
 ],
 "metadata": {
  "kernelspec": {
   "display_name": "Python 3",
   "language": "python",
   "name": "python3"
  },
  "language_info": {
   "codemirror_mode": {
    "name": "ipython",
    "version": 3
   },
   "file_extension": ".py",
   "mimetype": "text/x-python",
   "name": "python",
   "nbconvert_exporter": "python",
   "pygments_lexer": "ipython3",
   "version": "3.6.5"
  }
 },
 "nbformat": 4,
 "nbformat_minor": 2
}
