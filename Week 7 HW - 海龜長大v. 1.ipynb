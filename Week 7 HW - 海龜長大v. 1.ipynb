{
 "cells": [
  {
   "cell_type": "markdown",
   "metadata": {},
   "source": [
    "## 海龜長大v.1\n",
    "### 這是我用turtle模組做的一個小遊戲!\n",
    "#### ------------------------------------------- 玩法介紹 -------------------------------------------\n",
    "#### 遊戲就像貪食蛇一樣，用上下左右鍵控制海龜，讓牠吃到食物而長大。\n",
    "#### 海龜顏色是黑色，食物是用橘色原點來代表。\n",
    "#### ------------------------------------------- 未來改進 -------------------------------------------\n",
    "#### 1. 程式碼清理: 程式碼現在看起來很亂，未來清理的時候或許可以使用Class來做海龜、食物等物件。\n",
    "#### 2. 海龜吃食物的問題: \n",
    "#####     a. 海龜吃到食物後會頓一下才會長大。\n",
    "#####     b. 海龜長大之後有時會吃不到食物。這是因為目前我訂了一個海龜和食物的距離公式，小於一定範圍才會吃到食物。\n",
    "#### 3. 遊戲設計:\n",
    "#####     a. 目前沒有防止海龜跑出視窗外的設計。未來我會加入遊戲的邊界以及海龜碰到邊界會發生的事。\n",
    "#####     b. 目前遊戲視窗內還沒有開始停止遊戲的按鈕。"
   ]
  },
  {
   "cell_type": "code",
   "execution_count": 4,
   "metadata": {},
   "outputs": [],
   "source": [
    "import turtle\n",
    "import numpy as np"
   ]
  },
  {
   "cell_type": "code",
   "execution_count": 5,
   "metadata": {},
   "outputs": [],
   "source": [
    "turtle.screensize(30, 30, bg = 'light yellow')\n",
    "turtle.update()"
   ]
  },
  {
   "cell_type": "code",
   "execution_count": 7,
   "metadata": {},
   "outputs": [],
   "source": [
    "t = turtle.Turtle()\n",
    "t.color('black')\n",
    "t.shape('turtle')\n",
    "t.shapesize(1, 1)\n",
    "t.penup()\n",
    "\n",
    "def up():\n",
    "    t.setheading(90)\n",
    "def down():\n",
    "    t.setheading(270)\n",
    "def right():\n",
    "    t.setheading(0)\n",
    "def left():\n",
    "    t.setheading(180)"
   ]
  },
  {
   "cell_type": "code",
   "execution_count": 8,
   "metadata": {},
   "outputs": [],
   "source": [
    "dot = turtle.Turtle()\n",
    "dot.hideturtle()"
   ]
  },
  {
   "cell_type": "code",
   "execution_count": 9,
   "metadata": {},
   "outputs": [],
   "source": [
    "def Init():\n",
    "    t.setpos(0, 0)\n",
    "    food()\n",
    "    eaten_food = 0\n",
    "    return eaten_food"
   ]
  },
  {
   "cell_type": "code",
   "execution_count": 10,
   "metadata": {},
   "outputs": [],
   "source": [
    "def food(): \n",
    "    dot.hideturtle()\n",
    "    dot.penup()\n",
    "    dot.color('orange')\n",
    "    dot.shape('circle')\n",
    "    dot.shapesize(0.5, 0.5, 1)\n",
    "    dot.setx(np.random.randint(-200, 201))\n",
    "    dot.sety(np.random.randint(-200, 201))\n",
    "    dot.showturtle()\n",
    "    return dot.xcor(), dot.ycor()"
   ]
  },
  {
   "cell_type": "code",
   "execution_count": 11,
   "metadata": {},
   "outputs": [],
   "source": [
    "def Turtle():\n",
    "\n",
    "    turtle.listen()\n",
    "    t.forward(1)\n",
    "    turtle.onkey(up, \"Up\")\n",
    "    turtle.onkey(down, \"Down\")\n",
    "    turtle.onkey(left, \"Left\")\n",
    "    turtle.onkey(right, \"Right\")\n",
    "    eaten_food = 0\n",
    "    return t.xcor(), t.ycor(), eaten_food"
   ]
  },
  {
   "cell_type": "code",
   "execution_count": 18,
   "metadata": {},
   "outputs": [],
   "source": [
    "def Game():\n",
    "    Init()\n",
    "    eaten_food = 0\n",
    "    while True:\n",
    "        Turtle()\n",
    "        if (t.xcor()-dot.xcor())**2 + (t.ycor()-dot.ycor())**2 <= 100:\n",
    "            food()\n",
    "            eaten_food += 1\n",
    "            t.shapesize(1+eaten_food/10, 1+eaten_food/10)"
   ]
  },
  {
   "cell_type": "code",
   "execution_count": null,
   "metadata": {
    "scrolled": true
   },
   "outputs": [],
   "source": [
    "Game()"
   ]
  }
 ],
 "metadata": {
  "kernelspec": {
   "display_name": "Python 3",
   "language": "python",
   "name": "python3"
  },
  "language_info": {
   "codemirror_mode": {
    "name": "ipython",
    "version": 3
   },
   "file_extension": ".py",
   "mimetype": "text/x-python",
   "name": "python",
   "nbconvert_exporter": "python",
   "pygments_lexer": "ipython3",
   "version": "3.6.5"
  }
 },
 "nbformat": 4,
 "nbformat_minor": 2
}
