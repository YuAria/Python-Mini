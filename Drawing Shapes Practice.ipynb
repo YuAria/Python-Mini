{
 "cells": [
  {
   "cell_type": "markdown",
   "metadata": {},
   "source": [
    "# Drawing shapes practice"
   ]
  },
  {
   "cell_type": "markdown",
   "metadata": {},
   "source": [
    "# Reference: https://nickcharlton.net/posts/drawing-animating-shapes-matplotlib.html"
   ]
  },
  {
   "cell_type": "code",
   "execution_count": 2,
   "metadata": {},
   "outputs": [
    {
     "data": {
      "image/png": "[encoded data removed]",
      "text/plain": [
       "<Figure size 432x288 with 1 Axes>"
      ]
     },
     "metadata": {},
     "output_type": "display_data"
    }
   ],
   "source": [
    "import matplotlib.pyplot as plt\n",
    "\n",
    "circle = plt.Circle((0, 0), radius=0.75, ec='r', fc='None')\n",
    "plt.gca().add_patch(circle)\n",
    "\n",
    "circle2 = plt.Circle((0, 0), radius=0.4, ec='none', fc='brown')\n",
    "plt.gca().add_patch(circle2)\n",
    "\n",
    "rectangle = plt.Rectangle((-0.4, -0.4,), 1, 1,angle=0, ec='green', fc='none')\n",
    "plt.gca().add_patch(rectangle)\n",
    "\n",
    "line = plt.Line2D((-1,1),(-1,1),color='red')\n",
    "plt.gca().add_line(line)\n",
    "\n",
    "polygon = plt.Polygon(xy=[[2,0],[0,1],[1,2]],closed='false',ec='orange')\n",
    "plt.gca().add_patch(polygon)\n",
    "\n",
    "plt.axis('scaled')\n",
    "plt.show()"
   ]
  },
  {
   "cell_type": "code",
   "execution_count": 17,
   "metadata": {},
   "outputs": [
    {
     "ename": "SyntaxError",
     "evalue": "invalid syntax (<ipython-input-17-f7dba34f1323>, line 7)",
     "output_type": "error",
     "traceback": [
      "\u001b[1;36m  File \u001b[1;32m\"<ipython-input-17-f7dba34f1323>\"\u001b[1;36m, line \u001b[1;32m7\u001b[0m\n\u001b[1;33m    circle = plt.Circle(xy=(2,4)), radius=np.random.randint(1,10), fc='None', ec='blue', ls='-', lw='4')\u001b[0m\n\u001b[1;37m                                                                                                       ^\u001b[0m\n\u001b[1;31mSyntaxError\u001b[0m\u001b[1;31m:\u001b[0m invalid syntax\n"
     ]
    }
   ],
   "source": [
    "import matplotlib.pyplot as plt\n",
    "import numpy as np\n",
    "\n",
    "plt.axes()\n",
    "\n",
    "for i in range(7):\n",
    "    circle = plt.Circle(xy=(2,4)), radius=np.random.randint(1,10), fc='None', ec='blue', ls='-', lw='4')\n",
    "    plt.gca().add_patch(circle)\n",
    "    \n",
    "    \n",
    "\n",
    "plt.axis('scaled')\n",
    "plt.show()\n"
   ]
  },
  {
   "cell_type": "code",
   "execution_count": null,
   "metadata": {},
   "outputs": [],
   "source": []
  },
  {
   "cell_type": "code",
   "execution_count": null,
   "metadata": {},
   "outputs": [],
   "source": []
  }
 ],
 "metadata": {
  "kernelspec": {
   "display_name": "Python 3",
   "language": "python",
   "name": "python3"
  },
  "language_info": {
   "codemirror_mode": {
    "name": "ipython",
    "version": 3
   },
   "file_extension": ".py",
   "mimetype": "text/x-python",
   "name": "python",
   "nbconvert_exporter": "python",
   "pygments_lexer": "ipython3",
   "version": "3.6.5"
  }
 },
 "nbformat": 4,
 "nbformat_minor": 2
}
