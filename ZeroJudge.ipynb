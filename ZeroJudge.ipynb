{
 "cells": [
  {
   "cell_type": "markdown",
   "metadata": {},
   "source": [
    "# ZeroJudge起手式"
   ]
  },
  {
   "cell_type": "code",
   "execution_count": null,
   "metadata": {},
   "outputs": [],
   "source": [
    "import sys\n",
    "for line in sys.stdin:"
   ]
  },
  {
   "cell_type": "markdown",
   "metadata": {},
   "source": [
    "# a001: 哈囉"
   ]
  },
  {
   "cell_type": "code",
   "execution_count": null,
   "metadata": {},
   "outputs": [],
   "source": [
    "import sys\n",
    "for line in sys.stdin:\n",
    "    print(\"hello,\",line)"
   ]
  },
  {
   "cell_type": "markdown",
   "metadata": {},
   "source": [
    "# a002: 簡易加法"
   ]
  },
  {
   "cell_type": "code",
   "execution_count": null,
   "metadata": {},
   "outputs": [],
   "source": [
    "import sys\n",
    "for line in sys.stdin:\n",
    "    a,b=line.split(\" \")\n",
    "    print(int(a)+int(b))"
   ]
  },
  {
   "cell_type": "markdown",
   "metadata": {},
   "source": [
    "# a003: 兩光法師占卜術"
   ]
  },
  {
   "cell_type": "code",
   "execution_count": null,
   "metadata": {},
   "outputs": [],
   "source": [
    "import sys\n",
    "for line in sys.stdin:\n",
    "    m,d=line.split(\" \")\n",
    "    m = int(m)\n",
    "    d = int(d)\n",
    "    n = (m*2+d)%3\n",
    "    if n==0:\n",
    "        print(\"普通\")\n",
    "    elif n==1:\n",
    "        print(\"吉\")\n",
    "    else:\n",
    "        print(\"大吉\")"
   ]
  },
  {
   "cell_type": "markdown",
   "metadata": {},
   "source": [
    "# a004:文文的求婚"
   ]
  },
  {
   "cell_type": "code",
   "execution_count": null,
   "metadata": {},
   "outputs": [],
   "source": [
    "import sys\n",
    "for year in sys.stdin:\n",
    "    year = int(year)\n",
    "    if year%400==0:\n",
    "        print(\"閏年\")\n",
    "    elif year%100==0:\n",
    "        print(\"平年\")\n",
    "    elif year%4==0:\n",
    "        print(\"閏年\")\n",
    "    else:\n",
    "        print(\"平年\")"
   ]
  },
  {
   "cell_type": "markdown",
   "metadata": {},
   "source": [
    "# a005: Eva的回家作業"
   ]
  },
  {
   "cell_type": "code",
   "execution_count": null,
   "metadata": {},
   "outputs": [],
   "source": [
    "import sys\n",
    "for num in sys.stdin:\n",
    "    if num.find(\" \")==-1:\n",
    "        continue\n",
    "    a,b,c,d = num.split(\" \")\n",
    "    seq = [int(a), int(b), int(c), int(d)]\n",
    "    if seq[1]-seq[0]==seq[2]-seq[1]:\n",
    "        answer = int(seq[0]+4*(seq[1]-seq[0]))\n",
    "    else:\n",
    "        answer = int(seq[0]*((seq[1]/seq[0])**4))\n",
    "    seq.append(answer)\n",
    "    print(*seq, \" \") #Prints all elements in list, separated by spaces"
   ]
  },
  {
   "cell_type": "markdown",
   "metadata": {},
   "source": [
    "# a006:一元二次方程式"
   ]
  },
  {
   "cell_type": "code",
   "execution_count": null,
   "metadata": {},
   "outputs": [],
   "source": [
    "from math import sqrt\n",
    "import sys\n",
    "for num in sys.stdin:\n",
    "    a,b,c = num.split()\n",
    "    a = int(a)\n",
    "    b = int(b)\n",
    "    c = int(c)\n",
    "    det = b**2-4*a*c\n",
    "    if det<0:\n",
    "        print(\"No real root\")\n",
    "    elif det==0:\n",
    "        root = int((-1*b)/(2*a))\n",
    "        root = str(root)\n",
    "        print(\"Two same roots x=\"+root)\n",
    "    else:\n",
    "        root1 = int(((-1*b)+sqrt(det))/(2*a))\n",
    "        root2 = int(((-1*b)-sqrt(det))/(2*a))\n",
    "        root1 = str(root1)\n",
    "        root2 = str(root2)\n",
    "        print(\"Two different roots x1=\"+root1, \", x2=\"+root2)"
   ]
  },
  {
   "cell_type": "markdown",
   "metadata": {},
   "source": [
    "# a009:解碼器"
   ]
  },
  {
   "cell_type": "markdown",
   "metadata": {},
   "source": [
    "這題是用ASCII編碼做轉換，所以需要用到ord()來將字元轉換成ASCII碼，再用chr()轉回字元。\n",
    "另外每行輸出之後，必須要將Translate這個list清空，再將下一句input丟進程式裡。\n",
    "可以多善用dir()來知道可以對這個東西做哪些修改。"
   ]
  },
  {
   "cell_type": "code",
   "execution_count": null,
   "metadata": {},
   "outputs": [],
   "source": [
    "import sys\n",
    "Translate=[]\n",
    "for line in sys.stdin:\n",
    "    list(line)\n",
    "    for letter in line:\n",
    "        new_letter=chr(ord(letter)-7)\n",
    "        Translate.append(new_letter)\n",
    "        output = ''.join(Translate)\n",
    "    print(output)\n",
    "    Translate.clear()"
   ]
  },
  {
   "cell_type": "code",
   "execution_count": null,
   "metadata": {},
   "outputs": [],
   "source": [
    "dir(Translate)"
   ]
  },
  {
   "cell_type": "markdown",
   "metadata": {},
   "source": [
    "## a010: 因數分解"
   ]
  },
  {
   "cell_type": "code",
   "execution_count": 1,
   "metadata": {},
   "outputs": [],
   "source": [
    "#Using Sieve of Eratosthenes to pick out primes\n",
    "Primes = []\n",
    "def era(x):\n",
    "    Prime = [True]*(x+1)\n",
    "    for i in range(2, int(x**0.5+1)):\n",
    "        if Prime[i]:\n",
    "            for j in range(i*2,x+1,i):\n",
    "                Prime[j]=False\n",
    "    Primes.extend(i for i in range(2, x+1) if Prime[i])\n",
    "era(1000000)"
   ]
  },
  {
   "cell_type": "code",
   "execution_count": 5,
   "metadata": {},
   "outputs": [],
   "source": [
    "#Factorizing and Output\n",
    "import sys\n",
    "for line in sys.stdin:\n",
    "    line = int(line)\n",
    "    Factors = []\n",
    "    while line!=1:\n",
    "        for prime in Primes:\n",
    "            if line%prime==0: \n",
    "                Factors.append(prime)\n",
    "                line/=prime\n",
    "                break\n",
    "'''If number is divisible by the prime number, append it to the Factors list, divide number by prime,\n",
    "and breaks the loop so the number can be divised again.'''\n",
    "#String formatting to require its needs\n",
    "    Factor = []\n",
    "    for a in list(dict.fromkeys(Factors)):\n",
    "        b = Factors.count(a)\n",
    "        if b>1:\n",
    "            Factor.append(str(a)+'^'+str(b))\n",
    "        else:\n",
    "            Factor.append(str(a))\n",
    "    string = ' * '\n",
    "    print(string.join(Factor))\n",
    "#Example: 20 will be factorized as '2^2 * 5'"
   ]
  },
  {
   "cell_type": "code",
   "execution_count": 7,
   "metadata": {},
   "outputs": [
    {
     "name": "stdout",
     "output_type": "stream",
     "text": [
      "2^2 * 5\n"
     ]
    }
   ],
   "source": [
    "#Test code\n",
    "Test = 20\n",
    "Factors=[]\n",
    "while Test!=1:\n",
    "    for prime in Primes:\n",
    "        if Test%prime==0:\n",
    "            Factors.append(prime)\n",
    "            Test/=prime\n",
    "            break\n",
    "Factor = []\n",
    "for a in list(dict.fromkeys(Factors)):\n",
    "    b = Factors.count(a)\n",
    "    if b>1:\n",
    "        Factor.append(str(a)+'^'+str(b))\n",
    "    else:\n",
    "        Factor.append(str(a))\n",
    "string = ' * '\n",
    "print(string.join(Factor))"
   ]
  },
  {
   "cell_type": "markdown",
   "metadata": {},
   "source": [
    "# a013:羅馬數字"
   ]
  },
  {
   "cell_type": "code",
   "execution_count": 8,
   "metadata": {},
   "outputs": [],
   "source": [
    "import re"
   ]
  },
  {
   "cell_type": "code",
   "execution_count": 25,
   "metadata": {},
   "outputs": [
    {
     "name": "stdout",
     "output_type": "stream",
     "text": [
      "['IX'] ['LC', 'X'] ['MDM', 'C'] ['M', 'M']\n"
     ]
    }
   ],
   "source": [
    "test = 'MDMLCIX'\n",
    "ones = re.findall('[IVX]+',test)\n",
    "tens = re.findall('[XLC]+',test)\n",
    "huns = re.findall('[CDM]+',test)\n",
    "thous = re.findall('[M]+',test)\n",
    "print(ones, tens, huns, thous)"
   ]
  },
  {
   "cell_type": "code",
   "execution_count": 20,
   "metadata": {},
   "outputs": [],
   "source": [
    "#Answer Key\n",
    "ans = {'I':1,'II':2,'III':3,'IV':4,'V':5,'VI':6,'VII':7,'VIII':8}"
   ]
  },
  {
   "cell_type": "code",
   "execution_count": 21,
   "metadata": {},
   "outputs": [
    {
     "data": {
      "text/plain": [
       "('II', 2)"
      ]
     },
     "execution_count": 21,
     "metadata": {},
     "output_type": "execute_result"
    }
   ],
   "source": []
  },
  {
   "cell_type": "markdown",
   "metadata": {},
   "source": [
    "# a040: 阿姆斯壯數"
   ]
  },
  {
   "cell_type": "code",
   "execution_count": 23,
   "metadata": {},
   "outputs": [],
   "source": [
    "import sys\n",
    "for line in sys.stdin:\n",
    "    [start, end] = line.split(' ')\n",
    "    result = []\n",
    "    number = int(start)\n",
    "    while number <= int(end):\n",
    "        sum = 0\n",
    "        y = list(str(number))\n",
    "        power = len(y)\n",
    "        for i in y:\n",
    "            sum+=(int(i)**power)\n",
    "        if sum == number:\n",
    "            result.append(str(number))\n",
    "        number+=1\n",
    "    if len(result) > 0:\n",
    "        print(' '.join(result))\n",
    "    else:\n",
    "        print('none')       "
   ]
  },
  {
   "cell_type": "code",
   "execution_count": null,
   "metadata": {},
   "outputs": [],
   "source": []
  }
 ],
 "metadata": {
  "kernelspec": {
   "display_name": "Python 3",
   "language": "python",
   "name": "python3"
  },
  "language_info": {
   "codemirror_mode": {
    "name": "ipython",
    "version": 3
   },
   "file_extension": ".py",
   "mimetype": "text/x-python",
   "name": "python",
   "nbconvert_exporter": "python",
   "pygments_lexer": "ipython3",
   "version": "3.6.5"
  }
 },
 "nbformat": 4,
 "nbformat_minor": 2
}
