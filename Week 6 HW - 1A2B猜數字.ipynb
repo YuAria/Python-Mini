{
 "cells": [
  {
   "cell_type": "code",
   "execution_count": 1,
   "metadata": {},
   "outputs": [],
   "source": [
    "import numpy as np\n",
    "from IPython.display import Markdown"
   ]
  },
  {
   "cell_type": "code",
   "execution_count": null,
   "metadata": {},
   "outputs": [
    {
     "name": "stdout",
     "output_type": "stream",
     "text": [
      "請猜一個數字: 0987\n",
      "0A1B\n",
      "請猜一個數字: 9876\n",
      "0A0B\n",
      "請猜一個數字: 5432\n",
      "0A3B\n",
      "請猜一個數字: 4320\n",
      "1A2B\n",
      "請猜一個數字: 3205\n",
      "1A2B\n",
      "請猜一個數字: 2054\n",
      "0A3B\n",
      "請猜一個數字: 4350\n",
      "1A3B\n"
     ]
    }
   ],
   "source": [
    "correct = False\n",
    "correctNum = np.random.choice(range(10), size = 4, replace = False)\n",
    "while correct != True:\n",
    "    guess = input(\"請猜一個數字: \")\n",
    "    guessNum = list(guess)\n",
    "    j=0\n",
    "    a=0\n",
    "    for i in range(4):\n",
    "        if int(guessNum[i]) in correctNum:\n",
    "            j+=1\n",
    "        if int(guessNum[i]) == correctNum[i]:\n",
    "            a+=1\n",
    "        b=j-a\n",
    "    print(f\"{a}A{b}B\")\n",
    "    if a == 4:\n",
    "        correct = True\n",
    "        print(\"正確答案!\")"
   ]
  },
  {
   "cell_type": "code",
   "execution_count": null,
   "metadata": {},
   "outputs": [],
   "source": []
  }
 ],
 "metadata": {
  "kernelspec": {
   "display_name": "Python 3",
   "language": "python",
   "name": "python3"
  },
  "language_info": {
   "codemirror_mode": {
    "name": "ipython",
    "version": 3
   },
   "file_extension": ".py",
   "mimetype": "text/x-python",
   "name": "python",
   "nbconvert_exporter": "python",
   "pygments_lexer": "ipython3",
   "version": "3.6.5"
  }
 },
 "nbformat": 4,
 "nbformat_minor": 2
}
