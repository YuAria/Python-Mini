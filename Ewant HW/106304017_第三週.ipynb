{
 "cells": [
  {
   "cell_type": "markdown",
   "metadata": {},
   "source": [
    "<h2> 第一題：\n",
    "<h3>\n",
    "有A,B,C三個班級，每班皆有10個學生，期中考結束後，老師希望計算各班級每位學生的加權平均成績。\n",
    "\n",
    "<h3>\n",
    "請隨機產生3個班級的成績單,每班10人,共五科,權重為weights=[0.25,0.25,0.25,0.15,0.10]。\n",
    "<h3>\n",
    "請算出班級加權平均成績，並以一個array輸出。"
   ]
  },
  {
   "cell_type": "code",
   "execution_count": 1,
   "metadata": {},
   "outputs": [],
   "source": [
    "import numpy as np"
   ]
  },
  {
   "cell_type": "code",
   "execution_count": 2,
   "metadata": {},
   "outputs": [],
   "source": [
    "classes = np.random.randint(0, 101, size = (3, 10, 5))"
   ]
  },
  {
   "cell_type": "code",
   "execution_count": 3,
   "metadata": {},
   "outputs": [],
   "source": [
    "weights = np.array([0.25, 0.25, 0.25, 0.15, 0.1])"
   ]
  },
  {
   "cell_type": "code",
   "execution_count": 4,
   "metadata": {},
   "outputs": [
    {
     "data": {
      "text/plain": [
       "array([[[ 8, 65, 88, 69, 21],\n",
       "        [86,  4, 58,  2, 74],\n",
       "        [19, 24, 17, 88,  5],\n",
       "        [33, 57, 18,  9, 62],\n",
       "        [61, 79, 63, 42, 63],\n",
       "        [86, 88, 27, 30, 42],\n",
       "        [13, 30, 90, 41, 24],\n",
       "        [30, 31, 67,  4, 93],\n",
       "        [28, 91, 75, 36, 88],\n",
       "        [88, 14, 37,  3, 15]],\n",
       "\n",
       "       [[32, 82, 71,  9, 74],\n",
       "        [82, 60, 94, 94, 26],\n",
       "        [20, 85, 52, 12,  5],\n",
       "        [ 7, 98, 66, 37, 24],\n",
       "        [87, 93, 33, 84, 61],\n",
       "        [41, 64, 23, 73, 93],\n",
       "        [69, 44, 87, 95, 40],\n",
       "        [42, 36, 95, 70, 65],\n",
       "        [75, 81, 87, 62, 74],\n",
       "        [30, 45, 65, 91, 21]],\n",
       "\n",
       "       [[97, 64, 36, 40, 93],\n",
       "        [17, 19, 75, 14, 18],\n",
       "        [37, 86, 34, 49, 84],\n",
       "        [89, 60, 17, 11, 79],\n",
       "        [91, 61, 21, 43, 48],\n",
       "        [39, 49, 68, 94, 86],\n",
       "        [50, 71, 50, 57, 69],\n",
       "        [73, 10,  7, 31, 98],\n",
       "        [85, 59,  9, 97, 53],\n",
       "        [45, 96, 90, 19, 13]]])"
      ]
     },
     "execution_count": 4,
     "metadata": {},
     "output_type": "execute_result"
    }
   ],
   "source": [
    "classes"
   ]
  },
  {
   "cell_type": "code",
   "execution_count": 5,
   "metadata": {},
   "outputs": [
    {
     "data": {
      "text/plain": [
       "array([[[ 2.  , 16.25, 22.  , 10.35,  2.1 ],\n",
       "        [21.5 ,  1.  , 14.5 ,  0.3 ,  7.4 ],\n",
       "        [ 4.75,  6.  ,  4.25, 13.2 ,  0.5 ],\n",
       "        [ 8.25, 14.25,  4.5 ,  1.35,  6.2 ],\n",
       "        [15.25, 19.75, 15.75,  6.3 ,  6.3 ],\n",
       "        [21.5 , 22.  ,  6.75,  4.5 ,  4.2 ],\n",
       "        [ 3.25,  7.5 , 22.5 ,  6.15,  2.4 ],\n",
       "        [ 7.5 ,  7.75, 16.75,  0.6 ,  9.3 ],\n",
       "        [ 7.  , 22.75, 18.75,  5.4 ,  8.8 ],\n",
       "        [22.  ,  3.5 ,  9.25,  0.45,  1.5 ]],\n",
       "\n",
       "       [[ 8.  , 20.5 , 17.75,  1.35,  7.4 ],\n",
       "        [20.5 , 15.  , 23.5 , 14.1 ,  2.6 ],\n",
       "        [ 5.  , 21.25, 13.  ,  1.8 ,  0.5 ],\n",
       "        [ 1.75, 24.5 , 16.5 ,  5.55,  2.4 ],\n",
       "        [21.75, 23.25,  8.25, 12.6 ,  6.1 ],\n",
       "        [10.25, 16.  ,  5.75, 10.95,  9.3 ],\n",
       "        [17.25, 11.  , 21.75, 14.25,  4.  ],\n",
       "        [10.5 ,  9.  , 23.75, 10.5 ,  6.5 ],\n",
       "        [18.75, 20.25, 21.75,  9.3 ,  7.4 ],\n",
       "        [ 7.5 , 11.25, 16.25, 13.65,  2.1 ]],\n",
       "\n",
       "       [[24.25, 16.  ,  9.  ,  6.  ,  9.3 ],\n",
       "        [ 4.25,  4.75, 18.75,  2.1 ,  1.8 ],\n",
       "        [ 9.25, 21.5 ,  8.5 ,  7.35,  8.4 ],\n",
       "        [22.25, 15.  ,  4.25,  1.65,  7.9 ],\n",
       "        [22.75, 15.25,  5.25,  6.45,  4.8 ],\n",
       "        [ 9.75, 12.25, 17.  , 14.1 ,  8.6 ],\n",
       "        [12.5 , 17.75, 12.5 ,  8.55,  6.9 ],\n",
       "        [18.25,  2.5 ,  1.75,  4.65,  9.8 ],\n",
       "        [21.25, 14.75,  2.25, 14.55,  5.3 ],\n",
       "        [11.25, 24.  , 22.5 ,  2.85,  1.3 ]]])"
      ]
     },
     "execution_count": 5,
     "metadata": {},
     "output_type": "execute_result"
    }
   ],
   "source": [
    "classes * weights"
   ]
  },
  {
   "cell_type": "code",
   "execution_count": 6,
   "metadata": {},
   "outputs": [],
   "source": [
    "weighted_scores = classes * weights"
   ]
  },
  {
   "cell_type": "code",
   "execution_count": 7,
   "metadata": {},
   "outputs": [
    {
     "data": {
      "text/plain": [
       "array([[52.7 , 44.7 , 28.7 , 34.55, 63.35, 58.95, 41.8 , 41.9 , 62.7 ,\n",
       "        36.7 ],\n",
       "       [55.  , 75.7 , 41.55, 50.7 , 71.95, 52.25, 68.25, 60.25, 77.45,\n",
       "        50.75],\n",
       "       [64.55, 31.65, 55.  , 51.05, 54.5 , 61.7 , 58.2 , 36.95, 58.1 ,\n",
       "        61.9 ]])"
      ]
     },
     "execution_count": 7,
     "metadata": {},
     "output_type": "execute_result"
    }
   ],
   "source": [
    "np.sum(weighted_scores, axis = 2)"
   ]
  },
  {
   "cell_type": "code",
   "execution_count": 8,
   "metadata": {},
   "outputs": [
    {
     "data": {
      "text/plain": [
       "array([46.605, 60.385, 53.36 ])"
      ]
     },
     "execution_count": 8,
     "metadata": {},
     "output_type": "execute_result"
    }
   ],
   "source": [
    "np.average(np.sum(weighted_scores, axis = 2), axis = 1)"
   ]
  },
  {
   "cell_type": "markdown",
   "metadata": {},
   "source": [
    "## 第二題：\n",
    "<h3>\n",
    "向日葵班有40位學生，學期結束後，老師希望知道班上的期末成績相關資訊，作為下個學期教學的參考。\n",
    "\n",
    "\n",
    "### 請隨機產生40筆0~100的數字作為向日葵班的成績分佈，\n",
    "### 接著列出最高分、最低分、及格人數(>=60)、平均數、標準差，並且以10分作為一個區間，使用圖表畫出各個區間的人數。"
   ]
  },
  {
   "cell_type": "code",
   "execution_count": 9,
   "metadata": {},
   "outputs": [],
   "source": [
    "sunflower = np.random.randint(0, 100, 40)"
   ]
  },
  {
   "cell_type": "code",
   "execution_count": 10,
   "metadata": {},
   "outputs": [
    {
     "data": {
      "text/plain": [
       "array([29, 48,  8, 64,  6,  9, 96, 79,  7, 64, 31, 85, 30, 13,  6, 37, 23,\n",
       "       82, 32, 77, 86, 44, 75, 10, 40, 48, 89, 47, 44,  1, 50, 56, 26, 62,\n",
       "       27, 27, 38, 98, 63, 83])"
      ]
     },
     "execution_count": 10,
     "metadata": {},
     "output_type": "execute_result"
    }
   ],
   "source": [
    "sunflower"
   ]
  },
  {
   "cell_type": "code",
   "execution_count": 11,
   "metadata": {},
   "outputs": [
    {
     "data": {
      "text/plain": [
       "98"
      ]
     },
     "execution_count": 11,
     "metadata": {},
     "output_type": "execute_result"
    }
   ],
   "source": [
    "max(sunflower) #最高分"
   ]
  },
  {
   "cell_type": "code",
   "execution_count": 12,
   "metadata": {},
   "outputs": [
    {
     "data": {
      "text/plain": [
       "1"
      ]
     },
     "execution_count": 12,
     "metadata": {},
     "output_type": "execute_result"
    }
   ],
   "source": [
    "min(sunflower) #最低分"
   ]
  },
  {
   "cell_type": "code",
   "execution_count": 13,
   "metadata": {},
   "outputs": [
    {
     "data": {
      "text/plain": [
       "14"
      ]
     },
     "execution_count": 13,
     "metadata": {},
     "output_type": "execute_result"
    }
   ],
   "source": [
    "sunflower[sunflower >= 60].shape[0] #及格人數"
   ]
  },
  {
   "cell_type": "code",
   "execution_count": 14,
   "metadata": {},
   "outputs": [
    {
     "data": {
      "text/plain": [
       "46.0"
      ]
     },
     "execution_count": 14,
     "metadata": {},
     "output_type": "execute_result"
    }
   ],
   "source": [
    "np.average(sunflower) #平均數"
   ]
  },
  {
   "cell_type": "code",
   "execution_count": 15,
   "metadata": {},
   "outputs": [
    {
     "data": {
      "text/plain": [
       "28.194857687174093"
      ]
     },
     "execution_count": 15,
     "metadata": {},
     "output_type": "execute_result"
    }
   ],
   "source": [
    "np.std(sunflower) #標準差"
   ]
  },
  {
   "cell_type": "code",
   "execution_count": 16,
   "metadata": {},
   "outputs": [],
   "source": [
    "import matplotlib.pyplot as plt"
   ]
  },
  {
   "cell_type": "code",
   "execution_count": 17,
   "metadata": {},
   "outputs": [
    {
     "data": {
      "image/png": "[encoded data removed]",
      "text/plain": [
       "<Figure size 432x288 with 1 Axes>"
      ]
     },
     "metadata": {
      "needs_background": "light"
     },
     "output_type": "display_data"
    }
   ],
   "source": [
    "plt.hist(sunflower, bins = [10*i for i in range(11)])\n",
    "plt.show() #圖表"
   ]
  },
  {
   "cell_type": "markdown",
   "metadata": {},
   "source": [
    "<h2>挑戰題一：\n",
    "\n",
    "<h3>\n",
    "請定義一個全班高微成績的函式，輸入是一個(3, 30, 3)的array，  \n",
    "表示3個班級中30位學生的成績(小考，期中考，期末考)  。\n",
    "\n",
    "目標輸出則是一個(3, 30, 1)的array，表示所有學生的期末成績，\n",
    "期末成績計算方式如下：\n",
    "\n",
    "1. 小考20%，期中考35%，期末考45%  \n",
    "2. 期中考40%，期末考60%。  \n",
    "擇優作為期末成績\n",
    " \n",
    "Hint\n",
    "* 可以用雙重for迴圈 分別跑過班級跟人\n",
    "* 可以先設一個array裝算出來的成績\n",
    "* 記得要用return "
   ]
  },
  {
   "cell_type": "code",
   "execution_count": 18,
   "metadata": {},
   "outputs": [],
   "source": [
    "def final(scores):\n",
    "    weights1 = [0.2, 0.35, 0.45]\n",
    "    weights2 = [0, 0.4, 0.6]\n",
    "    \n",
    "    final_score1 = np.sum(scores*weights1, axis = 2).ravel()\n",
    "    final_score2 = np.sum(scores*weights2, axis = 2).ravel()\n",
    "    final_score = np.zeros(90)\n",
    " \n",
    "    for i in range(3*30):\n",
    "        final_score[i] = max(final_score1[i], final_score2[i])\n",
    "        \n",
    "    final_score = final_score.reshape(3, 30, 1)\n",
    "\n",
    "    return final_score\n",
    "    \n"
   ]
  },
  {
   "cell_type": "code",
   "execution_count": 19,
   "metadata": {},
   "outputs": [],
   "source": [
    "scores = np.random.randint(60, 101, (3, 30, 3))"
   ]
  },
  {
   "cell_type": "code",
   "execution_count": 20,
   "metadata": {},
   "outputs": [
    {
     "data": {
      "text/plain": [
       "array([[[81.  ],\n",
       "        [89.4 ],\n",
       "        [88.  ],\n",
       "        [91.2 ],\n",
       "        [78.5 ],\n",
       "        [85.45],\n",
       "        [73.4 ],\n",
       "        [82.6 ],\n",
       "        [79.15],\n",
       "        [77.2 ],\n",
       "        [81.6 ],\n",
       "        [88.8 ],\n",
       "        [69.6 ],\n",
       "        [85.7 ],\n",
       "        [70.1 ],\n",
       "        [80.8 ],\n",
       "        [91.2 ],\n",
       "        [79.4 ],\n",
       "        [73.05],\n",
       "        [80.55],\n",
       "        [89.8 ],\n",
       "        [93.4 ],\n",
       "        [75.8 ],\n",
       "        [75.8 ],\n",
       "        [95.  ],\n",
       "        [95.2 ],\n",
       "        [70.05],\n",
       "        [86.4 ],\n",
       "        [92.4 ],\n",
       "        [88.25]],\n",
       "\n",
       "       [[77.2 ],\n",
       "        [79.6 ],\n",
       "        [72.  ],\n",
       "        [79.9 ],\n",
       "        [79.65],\n",
       "        [94.2 ],\n",
       "        [84.8 ],\n",
       "        [81.85],\n",
       "        [98.  ],\n",
       "        [79.85],\n",
       "        [79.8 ],\n",
       "        [83.35],\n",
       "        [74.6 ],\n",
       "        [85.8 ],\n",
       "        [76.05],\n",
       "        [79.  ],\n",
       "        [86.  ],\n",
       "        [80.85],\n",
       "        [85.2 ],\n",
       "        [85.2 ],\n",
       "        [77.35],\n",
       "        [81.9 ],\n",
       "        [76.8 ],\n",
       "        [84.15],\n",
       "        [84.1 ],\n",
       "        [76.75],\n",
       "        [72.55],\n",
       "        [82.2 ],\n",
       "        [85.7 ],\n",
       "        [84.6 ]],\n",
       "\n",
       "       [[82.05],\n",
       "        [85.25],\n",
       "        [87.6 ],\n",
       "        [78.6 ],\n",
       "        [85.8 ],\n",
       "        [74.4 ],\n",
       "        [76.4 ],\n",
       "        [77.  ],\n",
       "        [69.3 ],\n",
       "        [82.75],\n",
       "        [96.8 ],\n",
       "        [80.7 ],\n",
       "        [88.6 ],\n",
       "        [92.6 ],\n",
       "        [88.2 ],\n",
       "        [79.  ],\n",
       "        [73.5 ],\n",
       "        [87.  ],\n",
       "        [87.8 ],\n",
       "        [83.  ],\n",
       "        [79.15],\n",
       "        [76.4 ],\n",
       "        [74.05],\n",
       "        [74.65],\n",
       "        [69.  ],\n",
       "        [84.55],\n",
       "        [71.65],\n",
       "        [78.6 ],\n",
       "        [86.15],\n",
       "        [78.05]]])"
      ]
     },
     "execution_count": 20,
     "metadata": {},
     "output_type": "execute_result"
    }
   ],
   "source": [
    "final(scores)"
   ]
  },
  {
   "cell_type": "markdown",
   "metadata": {},
   "source": [
    "<h2> 挑戰題二：\n",
    "\n",
    "<h3>\n",
    "題目：給定一個矩陣m，裡面的值都大於0。\n",
    "請將矩陣m裡大於等於1的數字都變成1，小於1的變成0。\n",
    "<h3>\n",
    "提示：使用巢狀迴圈(nested loop)加判斷式"
   ]
  },
  {
   "cell_type": "code",
   "execution_count": 21,
   "metadata": {},
   "outputs": [],
   "source": [
    "m = np.random.rand(5, 5)*5"
   ]
  },
  {
   "cell_type": "code",
   "execution_count": 22,
   "metadata": {},
   "outputs": [
    {
     "data": {
      "text/plain": [
       "array([[3.83640632, 3.11848439, 2.20582699, 4.94202601, 1.71347875],\n",
       "       [0.08645327, 3.98595229, 4.31896175, 2.89128341, 1.81165497],\n",
       "       [0.04090217, 2.20197674, 4.5136253 , 0.01543944, 3.35529114],\n",
       "       [0.72231987, 2.68650051, 3.85226212, 4.26523721, 4.23655662],\n",
       "       [0.3708396 , 4.78030753, 0.29276137, 1.54790164, 0.17416521]])"
      ]
     },
     "execution_count": 22,
     "metadata": {},
     "output_type": "execute_result"
    }
   ],
   "source": [
    "m"
   ]
  },
  {
   "cell_type": "code",
   "execution_count": 23,
   "metadata": {},
   "outputs": [
    {
     "name": "stdout",
     "output_type": "stream",
     "text": [
      "[[1. 1. 1. 1. 1.]\n",
      " [0. 1. 1. 1. 1.]\n",
      " [0. 1. 1. 0. 1.]\n",
      " [0. 1. 1. 1. 1.]\n",
      " [0. 1. 0. 1. 0.]]\n"
     ]
    }
   ],
   "source": [
    "for i in range(m.shape[0]):\n",
    "    for j in range(m.shape[1]):\n",
    "        if m[i][j]>=1:\n",
    "            m[i][j]=1\n",
    "        else:\n",
    "            m[i][j]=0\n",
    "\n",
    "print(m)"
   ]
  }
 ],
 "metadata": {
  "kernelspec": {
   "display_name": "Python 3",
   "language": "python",
   "name": "python3"
  },
  "language_info": {
   "codemirror_mode": {
    "name": "ipython",
    "version": 3
   },
   "file_extension": ".py",
   "mimetype": "text/x-python",
   "name": "python",
   "nbconvert_exporter": "python",
   "pygments_lexer": "ipython3",
   "version": "3.6.5"
  }
 },
 "nbformat": 4,
 "nbformat_minor": 2
}
