{
 "cells": [
  {
   "cell_type": "markdown",
   "metadata": {},
   "source": [
    "<h2> 第一題：\n",
    "<h3>\n",
    "有A,B,C三個班級，每班皆有10個學生，期中考結束後，老師希望計算各班級每位學生的加權平均成績。\n",
    "\n",
    "<h3>\n",
    "請隨機產生3個班級的成績單,每班10人,共五科,權重為weights=[0.25,0.25,0.25,0.15,0.10]。\n",
    "<h3>\n",
    "請算出班級加權平均成績，並以一個array輸出。"
   ]
  },
  {
   "cell_type": "code",
   "execution_count": 1,
   "metadata": {},
   "outputs": [],
   "source": [
    "import numpy as np"
   ]
  },
  {
   "cell_type": "code",
   "execution_count": null,
   "metadata": {},
   "outputs": [],
   "source": [
    "classes = np.random.randint(0, 101, size = (3, 10, 5))"
   ]
  },
  {
   "cell_type": "code",
   "execution_count": null,
   "metadata": {},
   "outputs": [],
   "source": [
    "weights = np.array([0.25, 0.25, 0.25, 0.15, 0.1])"
   ]
  },
  {
   "cell_type": "code",
   "execution_count": null,
   "metadata": {},
   "outputs": [],
   "source": [
    "classes"
   ]
  },
  {
   "cell_type": "code",
   "execution_count": null,
   "metadata": {},
   "outputs": [],
   "source": [
    "classes * weights"
   ]
  },
  {
   "cell_type": "code",
   "execution_count": null,
   "metadata": {},
   "outputs": [],
   "source": [
    "weighted_scores = classes * weights"
   ]
  },
  {
   "cell_type": "code",
   "execution_count": null,
   "metadata": {},
   "outputs": [],
   "source": [
    "np.sum(weighted_scores, axis = 2)"
   ]
  },
  {
   "cell_type": "code",
   "execution_count": null,
   "metadata": {},
   "outputs": [],
   "source": [
    "np.average(np.sum(weighted_scores, axis = 2), axis = 1)"
   ]
  },
  {
   "cell_type": "markdown",
   "metadata": {},
   "source": [
    "## 第二題：\n",
    "<h3>\n",
    "向日葵班有40位學生，學期結束後，老師希望知道班上的期末成績相關資訊，作為下個學期教學的參考。\n",
    "\n",
    "\n",
    "### 請隨機產生40筆0~100的數字作為向日葵班的成績分佈，\n",
    "### 接著列出最高分、最低分、及格人數(>=60)、平均數、標準差，並且以10分作為一個區間，使用圖表畫出各個區間的人數。"
   ]
  },
  {
   "cell_type": "code",
   "execution_count": null,
   "metadata": {},
   "outputs": [],
   "source": [
    "sunflower = np.random.randint(0, 100, 40)"
   ]
  },
  {
   "cell_type": "code",
   "execution_count": null,
   "metadata": {},
   "outputs": [],
   "source": [
    "sunflower"
   ]
  },
  {
   "cell_type": "code",
   "execution_count": null,
   "metadata": {},
   "outputs": [],
   "source": [
    "max(sunflower) #最高分"
   ]
  },
  {
   "cell_type": "code",
   "execution_count": null,
   "metadata": {},
   "outputs": [],
   "source": [
    "min(sunflower) #最低分"
   ]
  },
  {
   "cell_type": "code",
   "execution_count": null,
   "metadata": {},
   "outputs": [],
   "source": [
    "sunflower[sunflower >= 60].shape[0] #及格人數"
   ]
  },
  {
   "cell_type": "code",
   "execution_count": null,
   "metadata": {},
   "outputs": [],
   "source": [
    "np.average(sunflower) #平均數"
   ]
  },
  {
   "cell_type": "code",
   "execution_count": null,
   "metadata": {},
   "outputs": [],
   "source": [
    "np.std(sunflower) #標準差"
   ]
  },
  {
   "cell_type": "code",
   "execution_count": 2,
   "metadata": {},
   "outputs": [],
   "source": [
    "import matplotlib.pyplot as plt"
   ]
  },
  {
   "cell_type": "code",
   "execution_count": null,
   "metadata": {},
   "outputs": [],
   "source": [
    "plt.hist(sunflower, bins = [10*i for i in range(11)])\n",
    "plt.show() #圖表"
   ]
  },
  {
   "cell_type": "markdown",
   "metadata": {},
   "source": [
    "<h2>挑戰題一：\n",
    "\n",
    "<h3>\n",
    "請定義一個全班高微成績的函式，輸入是一個(3, 30, 3)的array，  \n",
    "表示3個班級中30位學生的成績(小考，期中考，期末考)  。\n",
    "\n",
    "目標輸出則是一個(3, 30, 1)的array，表示所有學生的期末成績，\n",
    "期末成績計算方式如下：\n",
    "\n",
    "1. 小考20%，期中考35%，期末考45%  \n",
    "2. 期中考40%，期末考60%。  \n",
    "擇優作為期末成績\n",
    " \n",
    "Hint\n",
    "* 可以用雙重for迴圈 分別跑過班級跟人\n",
    "* 可以先設一個array裝算出來的成績\n",
    "* 記得要用return "
   ]
  },
  {
   "cell_type": "code",
   "execution_count": 11,
   "metadata": {},
   "outputs": [],
   "source": [
    "def final(scores):\n",
    "    weights1 = [0.2, 0.35, 0.45]\n",
    "    weights2 = [0, 0.4, 0.6]\n",
    "    \n",
    "    final_score1 = np.sum(scores*weights1, axis = 2).ravel()\n",
    "    final_score2 = np.sum(scores*weights2, axis = 2).ravel()\n",
    "    final_score = np.zeros(90)\n",
    " \n",
    "    for i in range(3*30):\n",
    "        final_score[i] = max(final_score1[i], final_score2[i])\n",
    "        \n",
    "    final_score = final_score.reshape(3, 30, 1)\n",
    "\n",
    "    return final_score\n",
    "    \n"
   ]
  },
  {
   "cell_type": "code",
   "execution_count": 12,
   "metadata": {},
   "outputs": [],
   "source": [
    "scores = np.random.randint(60, 101, (3, 30, 3))"
   ]
  },
  {
   "cell_type": "code",
   "execution_count": 13,
   "metadata": {},
   "outputs": [
    {
     "data": {
      "text/plain": [
       "array([[[77.6 ],\n",
       "        [81.1 ],\n",
       "        [91.8 ],\n",
       "        [92.4 ],\n",
       "        [83.6 ],\n",
       "        [85.15],\n",
       "        [79.2 ],\n",
       "        [81.65],\n",
       "        [70.35],\n",
       "        [88.  ],\n",
       "        [85.8 ],\n",
       "        [73.15],\n",
       "        [97.4 ],\n",
       "        [92.6 ],\n",
       "        [78.45],\n",
       "        [84.4 ],\n",
       "        [77.  ],\n",
       "        [92.6 ],\n",
       "        [93.4 ],\n",
       "        [88.4 ],\n",
       "        [91.2 ],\n",
       "        [80.8 ],\n",
       "        [70.4 ],\n",
       "        [75.35],\n",
       "        [86.4 ],\n",
       "        [72.25],\n",
       "        [88.6 ],\n",
       "        [82.6 ],\n",
       "        [76.7 ],\n",
       "        [71.15]],\n",
       "\n",
       "       [[85.75],\n",
       "        [79.  ],\n",
       "        [73.6 ],\n",
       "        [72.2 ],\n",
       "        [69.4 ],\n",
       "        [79.7 ],\n",
       "        [86.5 ],\n",
       "        [70.2 ],\n",
       "        [86.2 ],\n",
       "        [83.35],\n",
       "        [74.1 ],\n",
       "        [79.95],\n",
       "        [76.6 ],\n",
       "        [75.  ],\n",
       "        [80.2 ],\n",
       "        [73.05],\n",
       "        [78.9 ],\n",
       "        [82.1 ],\n",
       "        [93.2 ],\n",
       "        [82.35],\n",
       "        [73.3 ],\n",
       "        [97.  ],\n",
       "        [78.8 ],\n",
       "        [82.  ],\n",
       "        [79.5 ],\n",
       "        [81.  ],\n",
       "        [70.  ],\n",
       "        [71.1 ],\n",
       "        [71.95],\n",
       "        [70.95]],\n",
       "\n",
       "       [[80.8 ],\n",
       "        [86.2 ],\n",
       "        [85.4 ],\n",
       "        [73.8 ],\n",
       "        [93.65],\n",
       "        [71.1 ],\n",
       "        [89.  ],\n",
       "        [81.  ],\n",
       "        [84.  ],\n",
       "        [84.5 ],\n",
       "        [73.2 ],\n",
       "        [89.6 ],\n",
       "        [82.65],\n",
       "        [79.3 ],\n",
       "        [73.2 ],\n",
       "        [81.  ],\n",
       "        [70.2 ],\n",
       "        [79.4 ],\n",
       "        [85.15],\n",
       "        [92.8 ],\n",
       "        [70.8 ],\n",
       "        [89.25],\n",
       "        [84.85],\n",
       "        [94.9 ],\n",
       "        [84.4 ],\n",
       "        [78.15],\n",
       "        [87.65],\n",
       "        [94.2 ],\n",
       "        [72.  ],\n",
       "        [80.3 ]]])"
      ]
     },
     "execution_count": 13,
     "metadata": {},
     "output_type": "execute_result"
    }
   ],
   "source": [
    "final(scores)"
   ]
  },
  {
   "cell_type": "markdown",
   "metadata": {},
   "source": [
    "<h2> 挑戰題二：\n",
    "\n",
    "<h3>\n",
    "題目：給定一個矩陣m，裡面的值都大於0。\n",
    "請將矩陣m裡大於等於1的數字都變成1，小於1的變成0。\n",
    "<h3>\n",
    "提示：使用巢狀迴圈(nested loop)加判斷式"
   ]
  },
  {
   "cell_type": "code",
   "execution_count": 20,
   "metadata": {},
   "outputs": [],
   "source": [
    "m = np.random.rand(5, 5)*5"
   ]
  },
  {
   "cell_type": "code",
   "execution_count": 21,
   "metadata": {},
   "outputs": [
    {
     "data": {
      "text/plain": [
       "array([[3.28148701, 1.16618452, 1.4373259 , 1.98281932, 4.369456  ],\n",
       "       [1.62967751, 2.52874859, 0.96619076, 4.45637832, 4.33172186],\n",
       "       [1.19696661, 0.2435789 , 4.72453357, 0.51223414, 0.35045767],\n",
       "       [1.68336234, 3.80228267, 2.511728  , 4.40098838, 0.23265251],\n",
       "       [4.53853067, 1.93093883, 2.08501524, 1.24477249, 1.60321961]])"
      ]
     },
     "execution_count": 21,
     "metadata": {},
     "output_type": "execute_result"
    }
   ],
   "source": [
    "m"
   ]
  },
  {
   "cell_type": "code",
   "execution_count": 22,
   "metadata": {},
   "outputs": [
    {
     "name": "stdout",
     "output_type": "stream",
     "text": [
      "[[1. 1. 1. 1. 1.]\n",
      " [1. 1. 0. 1. 1.]\n",
      " [1. 0. 1. 0. 0.]\n",
      " [1. 1. 1. 1. 0.]\n",
      " [1. 1. 1. 1. 1.]]\n"
     ]
    }
   ],
   "source": [
    "for i in range(m.shape[0]):\n",
    "    for j in range(m.shape[1]):\n",
    "        if m[i][j]>=1:\n",
    "            m[i][j]=1\n",
    "        else:\n",
    "            m[i][j]=0\n",
    "\n",
    "print(m)"
   ]
  },
  {
   "cell_type": "code",
   "execution_count": null,
   "metadata": {},
   "outputs": [],
   "source": []
  }
 ],
 "metadata": {
  "kernelspec": {
   "display_name": "Python 3",
   "language": "python",
   "name": "python3"
  },
  "language_info": {
   "codemirror_mode": {
    "name": "ipython",
    "version": 3
   },
   "file_extension": ".py",
   "mimetype": "text/x-python",
   "name": "python",
   "nbconvert_exporter": "python",
   "pygments_lexer": "ipython3",
   "version": "3.6.5"
  }
 },
 "nbformat": 4,
 "nbformat_minor": 2
}
