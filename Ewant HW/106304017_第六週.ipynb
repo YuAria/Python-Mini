{
 "cells": [
  {
   "cell_type": "markdown",
   "metadata": {},
   "source": [
    "### 1.請依照老師影片5-7中，使用pandas_datareader得到 \"AAPL\" 這間公司股價的所有資料，不用設定資料時間\n",
    "\n",
    "### 2.取出最後300筆資料\n",
    "\n",
    "### 3.從這300筆資料，取出收盤價close，並轉成numpy_array讓我們在後面使用\n",
    "\n",
    "### 4.我們現在要做的，是用前一天的收盤價，預測第二天的收盤價（星期一預測星期二），請依照這個需求，把資料分成題目X(迴歸直線的x座標，表示所有的「前一天收盤價」)，跟答案Y(迴歸直線的y座標，表示所有的「第二天收盤價」) \n",
    "\n",
    "### 5.請把題目X，答案Y再分成佔80%的訓練資料跟佔20%的測試資料\n",
    "\n",
    "### 6.請實際的利用訓練資料和scikit learn跑線性回歸，畫圖，並在得到的迴歸直線上，加上訓練資料的資料點(plt.scatter...)，看看你回歸的結果跟實際結果差多少。"
   ]
  },
  {
   "cell_type": "code",
   "execution_count": 2,
   "metadata": {},
   "outputs": [],
   "source": [
    "import numpy as np\n",
    "import matplotlib.pyplot as plt\n",
    "import pandas as pd\n",
    "import pandas_datareader.data as web"
   ]
  },
  {
   "cell_type": "code",
   "execution_count": 21,
   "metadata": {},
   "outputs": [],
   "source": [
    "df = web.DataReader(\"AAPL\", \"yahoo\")"
   ]
  },
  {
   "cell_type": "code",
   "execution_count": 22,
   "metadata": {},
   "outputs": [],
   "source": [
    "df = df[-301:] #為了方便在接下來生成各含300筆資料的X及Y，這邊取值改為取最後301筆資料"
   ]
  },
  {
   "cell_type": "code",
   "execution_count": 24,
   "metadata": {},
   "outputs": [
    {
     "data": {
      "text/html": [
       "<div>\n",
       "<style scoped>\n",
       "    .dataframe tbody tr th:only-of-type {\n",
       "        vertical-align: middle;\n",
       "    }\n",
       "\n",
       "    .dataframe tbody tr th {\n",
       "        vertical-align: top;\n",
       "    }\n",
       "\n",
       "    .dataframe thead th {\n",
       "        text-align: right;\n",
       "    }\n",
       "</style>\n",
       "<table border=\"1\" class=\"dataframe\">\n",
       "  <thead>\n",
       "    <tr style=\"text-align: right;\">\n",
       "      <th></th>\n",
       "      <th>High</th>\n",
       "      <th>Low</th>\n",
       "      <th>Open</th>\n",
       "      <th>Close</th>\n",
       "      <th>Volume</th>\n",
       "      <th>Adj Close</th>\n",
       "    </tr>\n",
       "    <tr>\n",
       "      <th>Date</th>\n",
       "      <th></th>\n",
       "      <th></th>\n",
       "      <th></th>\n",
       "      <th></th>\n",
       "      <th></th>\n",
       "      <th></th>\n",
       "    </tr>\n",
       "  </thead>\n",
       "  <tbody>\n",
       "    <tr>\n",
       "      <td>2018-10-10</td>\n",
       "      <td>226.350006</td>\n",
       "      <td>216.050003</td>\n",
       "      <td>225.460007</td>\n",
       "      <td>216.360001</td>\n",
       "      <td>41990600.0</td>\n",
       "      <td>212.416153</td>\n",
       "    </tr>\n",
       "    <tr>\n",
       "      <td>2018-10-11</td>\n",
       "      <td>219.500000</td>\n",
       "      <td>212.320007</td>\n",
       "      <td>214.520004</td>\n",
       "      <td>214.449997</td>\n",
       "      <td>53124400.0</td>\n",
       "      <td>210.540970</td>\n",
       "    </tr>\n",
       "    <tr>\n",
       "      <td>2018-10-12</td>\n",
       "      <td>222.880005</td>\n",
       "      <td>216.839996</td>\n",
       "      <td>220.419998</td>\n",
       "      <td>222.110001</td>\n",
       "      <td>40337900.0</td>\n",
       "      <td>218.061340</td>\n",
       "    </tr>\n",
       "    <tr>\n",
       "      <td>2018-10-15</td>\n",
       "      <td>221.830002</td>\n",
       "      <td>217.270004</td>\n",
       "      <td>221.160004</td>\n",
       "      <td>217.360001</td>\n",
       "      <td>30791000.0</td>\n",
       "      <td>213.397919</td>\n",
       "    </tr>\n",
       "    <tr>\n",
       "      <td>2018-10-16</td>\n",
       "      <td>222.990005</td>\n",
       "      <td>216.759995</td>\n",
       "      <td>218.929993</td>\n",
       "      <td>222.149994</td>\n",
       "      <td>29184000.0</td>\n",
       "      <td>218.100601</td>\n",
       "    </tr>\n",
       "    <tr>\n",
       "      <td>...</td>\n",
       "      <td>...</td>\n",
       "      <td>...</td>\n",
       "      <td>...</td>\n",
       "      <td>...</td>\n",
       "      <td>...</td>\n",
       "      <td>...</td>\n",
       "    </tr>\n",
       "    <tr>\n",
       "      <td>2019-12-13</td>\n",
       "      <td>275.299988</td>\n",
       "      <td>270.929993</td>\n",
       "      <td>271.459991</td>\n",
       "      <td>275.149994</td>\n",
       "      <td>33396900.0</td>\n",
       "      <td>275.149994</td>\n",
       "    </tr>\n",
       "    <tr>\n",
       "      <td>2019-12-16</td>\n",
       "      <td>280.790009</td>\n",
       "      <td>276.980011</td>\n",
       "      <td>277.000000</td>\n",
       "      <td>279.859985</td>\n",
       "      <td>32046500.0</td>\n",
       "      <td>279.859985</td>\n",
       "    </tr>\n",
       "    <tr>\n",
       "      <td>2019-12-17</td>\n",
       "      <td>281.769989</td>\n",
       "      <td>278.799988</td>\n",
       "      <td>279.570007</td>\n",
       "      <td>280.410004</td>\n",
       "      <td>28539600.0</td>\n",
       "      <td>280.410004</td>\n",
       "    </tr>\n",
       "    <tr>\n",
       "      <td>2019-12-18</td>\n",
       "      <td>281.899994</td>\n",
       "      <td>279.119995</td>\n",
       "      <td>279.799988</td>\n",
       "      <td>279.739990</td>\n",
       "      <td>29007100.0</td>\n",
       "      <td>279.739990</td>\n",
       "    </tr>\n",
       "    <tr>\n",
       "      <td>2019-12-19</td>\n",
       "      <td>281.179993</td>\n",
       "      <td>278.950012</td>\n",
       "      <td>279.500000</td>\n",
       "      <td>280.019989</td>\n",
       "      <td>24592300.0</td>\n",
       "      <td>280.019989</td>\n",
       "    </tr>\n",
       "  </tbody>\n",
       "</table>\n",
       "<p>301 rows × 6 columns</p>\n",
       "</div>"
      ],
      "text/plain": [
       "                  High         Low        Open       Close      Volume  \\\n",
       "Date                                                                     \n",
       "2018-10-10  226.350006  216.050003  225.460007  216.360001  41990600.0   \n",
       "2018-10-11  219.500000  212.320007  214.520004  214.449997  53124400.0   \n",
       "2018-10-12  222.880005  216.839996  220.419998  222.110001  40337900.0   \n",
       "2018-10-15  221.830002  217.270004  221.160004  217.360001  30791000.0   \n",
       "2018-10-16  222.990005  216.759995  218.929993  222.149994  29184000.0   \n",
       "...                ...         ...         ...         ...         ...   \n",
       "2019-12-13  275.299988  270.929993  271.459991  275.149994  33396900.0   \n",
       "2019-12-16  280.790009  276.980011  277.000000  279.859985  32046500.0   \n",
       "2019-12-17  281.769989  278.799988  279.570007  280.410004  28539600.0   \n",
       "2019-12-18  281.899994  279.119995  279.799988  279.739990  29007100.0   \n",
       "2019-12-19  281.179993  278.950012  279.500000  280.019989  24592300.0   \n",
       "\n",
       "             Adj Close  \n",
       "Date                    \n",
       "2018-10-10  212.416153  \n",
       "2018-10-11  210.540970  \n",
       "2018-10-12  218.061340  \n",
       "2018-10-15  213.397919  \n",
       "2018-10-16  218.100601  \n",
       "...                ...  \n",
       "2019-12-13  275.149994  \n",
       "2019-12-16  279.859985  \n",
       "2019-12-17  280.410004  \n",
       "2019-12-18  279.739990  \n",
       "2019-12-19  280.019989  \n",
       "\n",
       "[301 rows x 6 columns]"
      ]
     },
     "execution_count": 24,
     "metadata": {},
     "output_type": "execute_result"
    }
   ],
   "source": [
    "df #接下來用2018/10/10~2019/12/18的收盤價，預測2018/10/11~2019/12/19的收盤價"
   ]
  },
  {
   "cell_type": "code",
   "execution_count": 25,
   "metadata": {},
   "outputs": [],
   "source": [
    "a = np.array(df.Close) #取收盤價"
   ]
  },
  {
   "cell_type": "code",
   "execution_count": 41,
   "metadata": {},
   "outputs": [],
   "source": [
    "X = a[:-1].reshape(-1, 1)\n",
    "Y = a[1:].reshape(-1, 1)"
   ]
  },
  {
   "cell_type": "code",
   "execution_count": 42,
   "metadata": {},
   "outputs": [],
   "source": [
    "from sklearn.model_selection import train_test_split"
   ]
  },
  {
   "cell_type": "code",
   "execution_count": 43,
   "metadata": {},
   "outputs": [],
   "source": [
    "X_train, X_test, Y_train, Y_test = train_test_split(X, Y, test_size = 0.2, random_state = 12)"
   ]
  },
  {
   "cell_type": "code",
   "execution_count": 44,
   "metadata": {},
   "outputs": [],
   "source": [
    "from sklearn.linear_model import LinearRegression"
   ]
  },
  {
   "cell_type": "code",
   "execution_count": 45,
   "metadata": {},
   "outputs": [],
   "source": [
    "model = LinearRegression()"
   ]
  },
  {
   "cell_type": "code",
   "execution_count": 46,
   "metadata": {},
   "outputs": [
    {
     "data": {
      "text/plain": [
       "LinearRegression(copy_X=True, fit_intercept=True, n_jobs=None, normalize=False)"
      ]
     },
     "execution_count": 46,
     "metadata": {},
     "output_type": "execute_result"
    }
   ],
   "source": [
    "model.fit(X_train, Y_train)"
   ]
  },
  {
   "cell_type": "code",
   "execution_count": 60,
   "metadata": {},
   "outputs": [],
   "source": [
    "x = np.arange(120, 300, 0.5)\n",
    "y = x * model.coef_[0][0] + model.intercept_[0]"
   ]
  },
  {
   "cell_type": "code",
   "execution_count": 64,
   "metadata": {},
   "outputs": [
    {
     "data": {
      "image/png": "[encoded data removed]",
      "text/plain": [
       "<Figure size 432x288 with 1 Axes>"
      ]
     },
     "metadata": {
      "needs_background": "light"
     },
     "output_type": "display_data"
    }
   ],
   "source": [
    "plt.scatter(X_train, Y_train)\n",
    "plt.plot(x, y, color = 'red', lw = 2)\n",
    "plt.xlabel(\"Close (day before)\")\n",
    "plt.ylabel(\"Close (day after)\")\n",
    "plt.show()"
   ]
  },
  {
   "cell_type": "code",
   "execution_count": null,
   "metadata": {},
   "outputs": [],
   "source": []
  }
 ],
 "metadata": {
  "kernelspec": {
   "display_name": "Python 3",
   "language": "python",
   "name": "python3"
  },
  "language_info": {
   "codemirror_mode": {
    "name": "ipython",
    "version": 3
   },
   "file_extension": ".py",
   "mimetype": "text/x-python",
   "name": "python",
   "nbconvert_exporter": "python",
   "pygments_lexer": "ipython3",
   "version": "3.6.5"
  }
 },
 "nbformat": 4,
 "nbformat_minor": 2
}
