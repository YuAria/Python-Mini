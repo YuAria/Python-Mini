{
 "cells": [
  {
   "cell_type": "markdown",
   "metadata": {},
   "source": [
    "## 第一題【猜數字遊戲】：\n",
    "### 電腦由 1 到 100 「想」一個數字。你開始猜電腦想的數字, 太大或大小電腦會告訴你, 直到猜對。"
   ]
  },
  {
   "cell_type": "code",
   "execution_count": 2,
   "metadata": {},
   "outputs": [],
   "source": [
    "import numpy as np\n",
    "import matplotlib.pyplot as plt"
   ]
  },
  {
   "cell_type": "code",
   "execution_count": 3,
   "metadata": {},
   "outputs": [
    {
     "name": "stdout",
     "output_type": "stream",
     "text": [
      "What number am I thinking? 50\n",
      "No! Too big!\n",
      "What number am I thinking? 25\n",
      "No! Too big!\n",
      "What number am I thinking? 12\n",
      "No! Too big!\n",
      "What number am I thinking? 6\n",
      "No! Too small!\n",
      "What number am I thinking? 9\n",
      "No! Too big!\n",
      "What number am I thinking? 10\n",
      "No! Too big!\n",
      "What number am I thinking? 11\n",
      "No! Too big!\n",
      "What number am I thinking? 7\n",
      "No! Too small!\n",
      "What number am I thinking? 8\n",
      "You guessed it!\n"
     ]
    }
   ],
   "source": [
    "number = np.random.randint(1, 101)\n",
    "guessed = False\n",
    "\n",
    "while guessed == False:\n",
    "    guess = int(input(\"What number am I thinking? \"))\n",
    "    if guess > number:\n",
    "        print(\"No! Too big!\")\n",
    "    elif guess < number:\n",
    "        print(\"No! Too small!\")\n",
    "    else:\n",
    "        print(\"You guessed it!\")\n",
    "        guessed = True"
   ]
  },
  {
   "cell_type": "markdown",
   "metadata": {},
   "source": [
    "## 第二題【感恩讚嘆機器人】：\n",
    "\n",
    "<h3>\n",
    "請依照老師本週影片的作法，\n",
    "製作出感恩讚嘆機器人，\n",
    "也就是回應的格式一律是：\n",
    "「感恩ＯＯ，讚嘆ＯＯ。」\n",
    "\n",
    " 範例：\n",
    "\n",
    "「嗨，今天天氣很好，要一起去洞爺湖喝茶吃魚嗎？」\n",
    "\n",
    "『感恩炎龍，讚嘆炎龍。』"
   ]
  },
  {
   "cell_type": "code",
   "execution_count": 4,
   "metadata": {},
   "outputs": [
    {
     "name": "stdout",
     "output_type": "stream",
     "text": [
      "<< 讚嘆\n",
      ">> 感恩師父，讚嘆師父\n",
      "<< 哈哈\n",
      ">> 感恩師父，讚嘆師父\n",
      "<< 掰掰\n",
      ">> 感恩師父，讚嘆師父\n"
     ]
    }
   ],
   "source": [
    "message = \"\"\n",
    "while message != \"掰掰\":\n",
    "    message = input(\"<< \")\n",
    "    print(\">> 感恩師父，讚嘆師父\")"
   ]
  },
  {
   "cell_type": "markdown",
   "metadata": {},
   "source": [
    "<h2>\n",
    "第三題 【寫個函數讓字串倒過來排】：\n",
    "<h3>\n",
    "寫一個函數, 比如說叫 reverse,\n",
    "\n",
    "然後輸入一個字串,\n",
    "\n",
    "st = “hello”\n",
    "\n",
    "reverse(“hello”)\n",
    "\n",
    "就回傳這個字串\n",
    "\n",
    "‘olleh’"
   ]
  },
  {
   "cell_type": "code",
   "execution_count": 5,
   "metadata": {},
   "outputs": [],
   "source": [
    "def reverse(string):\n",
    "    string = list(string)\n",
    "    string.reverse()\n",
    "    print(\"\".join(string))"
   ]
  },
  {
   "cell_type": "code",
   "execution_count": 6,
   "metadata": {},
   "outputs": [
    {
     "name": "stdout",
     "output_type": "stream",
     "text": [
      "racecar\n"
     ]
    }
   ],
   "source": [
    "reverse(\"racecar\")"
   ]
  },
  {
   "cell_type": "markdown",
   "metadata": {},
   "source": [
    "<h2>\n",
    "挑戰題一【天干地支】：\n",
    "\n",
    "<h3>\n",
    "年份是用天干地支\n",
    "\n",
    "<h3>\n",
    "天干:甲乙丙丁戊己庚辛壬癸\n",
    "\n",
    "地支:子丑寅卯辰巳午未申酉戌亥\n",
    "\n",
    "2014年是甲午年\n",
    "\n",
    "2015年是乙未年\n",
    "\n",
    "…\n",
    "\n",
    "輸出2014~2073是什麼年\n",
    "\n",
    " "
   ]
  },
  {
   "cell_type": "code",
   "execution_count": 7,
   "metadata": {},
   "outputs": [],
   "source": [
    "天干 = list(\"甲乙丙丁戊己庚辛壬癸\")\n",
    "地支 = list(\"子丑寅卯辰巳午未申酉戌亥\")"
   ]
  },
  {
   "cell_type": "code",
   "execution_count": 8,
   "metadata": {},
   "outputs": [
    {
     "name": "stdout",
     "output_type": "stream",
     "text": [
      "2014年是甲午年\n",
      "2015年是乙未年\n",
      "2016年是丙申年\n",
      "2017年是丁酉年\n",
      "2018年是戊戌年\n",
      "2019年是己亥年\n",
      "2020年是庚子年\n",
      "2021年是辛丑年\n",
      "2022年是壬寅年\n",
      "2023年是癸卯年\n",
      "2024年是甲辰年\n",
      "2025年是乙巳年\n",
      "2026年是丙午年\n",
      "2027年是丁未年\n",
      "2028年是戊申年\n",
      "2029年是己酉年\n",
      "2030年是庚戌年\n",
      "2031年是辛亥年\n",
      "2032年是壬子年\n",
      "2033年是癸丑年\n",
      "2034年是甲寅年\n",
      "2035年是乙卯年\n",
      "2036年是丙辰年\n",
      "2037年是丁巳年\n",
      "2038年是戊午年\n",
      "2039年是己未年\n",
      "2040年是庚申年\n",
      "2041年是辛酉年\n",
      "2042年是壬戌年\n",
      "2043年是癸亥年\n",
      "2044年是甲子年\n",
      "2045年是乙丑年\n",
      "2046年是丙寅年\n",
      "2047年是丁卯年\n",
      "2048年是戊辰年\n",
      "2049年是己巳年\n",
      "2050年是庚午年\n",
      "2051年是辛未年\n",
      "2052年是壬申年\n",
      "2053年是癸酉年\n",
      "2054年是甲戌年\n",
      "2055年是乙亥年\n",
      "2056年是丙子年\n",
      "2057年是丁丑年\n",
      "2058年是戊寅年\n",
      "2059年是己卯年\n",
      "2060年是庚辰年\n",
      "2061年是辛巳年\n",
      "2062年是壬午年\n",
      "2063年是癸未年\n",
      "2064年是甲申年\n",
      "2065年是乙酉年\n",
      "2066年是丙戌年\n",
      "2067年是丁亥年\n",
      "2068年是戊子年\n",
      "2069年是己丑年\n",
      "2070年是庚寅年\n",
      "2071年是辛卯年\n",
      "2072年是壬辰年\n",
      "2073年是癸巳年\n"
     ]
    }
   ],
   "source": [
    "year = 2013\n",
    "x = 9\n",
    "y = 5\n",
    "for i in range(2074-2014):\n",
    "    x+=1\n",
    "    y+=1\n",
    "    year += 1\n",
    "    if x==len(天干):\n",
    "        x=0\n",
    "    if y==len(地支):\n",
    "        y=0\n",
    "    print(f\"{year}年是{天干[x]}{地支[y]}年\")"
   ]
  },
  {
   "cell_type": "markdown",
   "metadata": {},
   "source": [
    "<h2>挑戰題二【我有一棵樹】：\n",
    "\n",
    "<h3>寫個 tree 函數, 給一個數字就會畫出如下的畫面。"
   ]
  },
  {
   "cell_type": "code",
   "execution_count": 9,
   "metadata": {},
   "outputs": [],
   "source": [
    "def tree(x):\n",
    "    for i in range(x):\n",
    "        stars = 2*i+1\n",
    "        print(\"{:^20}\".format(\"*\"*stars))"
   ]
  },
  {
   "cell_type": "code",
   "execution_count": 10,
   "metadata": {},
   "outputs": [
    {
     "name": "stdout",
     "output_type": "stream",
     "text": [
      "         *          \n",
      "        ***         \n",
      "       *****        \n",
      "      *******       \n",
      "     *********      \n"
     ]
    }
   ],
   "source": [
    "tree(5)"
   ]
  },
  {
   "cell_type": "markdown",
   "metadata": {},
   "source": [
    "<h2> 挑戰題三：自己出！"
   ]
  },
  {
   "cell_type": "code",
   "execution_count": 11,
   "metadata": {},
   "outputs": [],
   "source": [
    "# 電腦陪你玩31數字小遊戲"
   ]
  },
  {
   "cell_type": "code",
   "execution_count": 12,
   "metadata": {},
   "outputs": [
    {
     "name": "stdout",
     "output_type": "stream",
     "text": [
      "請喊1~3個數字: 1 2 3\n",
      "[4, 5]\n",
      "請喊1~3個數字: 6 7 8\n",
      "[9]\n",
      "請喊1~3個數字: 10 11 12\n",
      "[13, 14]\n",
      "請喊1~3個數字: 15 16 17\n",
      "[18, 19, 20]\n",
      "請喊1~3個數字: 21 22 23\n",
      "[24, 25, 26]\n",
      "請喊1~3個數字: 27\n",
      "[28, 29]\n",
      "請喊1~3個數字: 30\n",
      "[31]\n",
      "You Win!\n"
     ]
    }
   ],
   "source": [
    "number = list(range(1,32)) #設有1~31 31個數字的List\n",
    "playGame = True\n",
    "while playGame == True:\n",
    "    x = input(\"請喊1~3個數字: \")\n",
    "    player_number = x.split()\n",
    "    if int(player_number[0]) != number[0]:\n",
    "        print (\"從下一個數字開始喊!!!\") \n",
    "    else: \n",
    "        numberCount = len(player_number)\n",
    "        del number[:numberCount]\n",
    "    if len(number)==0:\n",
    "        print(\"You lose!\")\n",
    "        playGame = False\n",
    "        \n",
    "    CPUnumbers = np.random.randint(1, 4)\n",
    "    print(number[:CPUnumbers])\n",
    "    del number[:CPUnumbers]\n",
    "    if len(number)==0:\n",
    "        print(\"You Win!\")\n",
    "        playGame = False"
   ]
  },
  {
   "cell_type": "code",
   "execution_count": null,
   "metadata": {},
   "outputs": [],
   "source": []
  }
 ],
 "metadata": {
  "kernelspec": {
   "display_name": "Python 3",
   "language": "python",
   "name": "python3"
  },
  "language_info": {
   "codemirror_mode": {
    "name": "ipython",
    "version": 3
   },
   "file_extension": ".py",
   "mimetype": "text/x-python",
   "name": "python",
   "nbconvert_exporter": "python",
   "pygments_lexer": "ipython3",
   "version": "3.6.5"
  }
 },
 "nbformat": 4,
 "nbformat_minor": 2
}
