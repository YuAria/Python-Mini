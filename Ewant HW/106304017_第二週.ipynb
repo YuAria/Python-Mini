{
 "cells": [
  {
   "cell_type": "markdown",
   "metadata": {},
   "source": [
    "## 第一題【猜數字遊戲】：\n",
    "### 電腦由 1 到 100 「想」一個數字。你開始猜電腦想的數字, 太大或大小電腦會告訴你, 直到猜對。"
   ]
  },
  {
   "cell_type": "code",
   "execution_count": 3,
   "metadata": {},
   "outputs": [],
   "source": [
    "import numpy as np\n",
    "import matplotlib.pyplot as plt"
   ]
  },
  {
   "cell_type": "code",
   "execution_count": null,
   "metadata": {},
   "outputs": [],
   "source": [
    "number = np.random.randint(1, 101)\n",
    "guessed = False\n",
    "\n",
    "while guessed == False:\n",
    "    guess = int(input(\"What number am I thinking? \"))\n",
    "    if guess > number:\n",
    "        print(\"No! Too big!\")\n",
    "    elif guess < number:\n",
    "        print(\"No! Too small!\")\n",
    "    else:\n",
    "        print(\"You guessed it!\")\n",
    "        guessed = True"
   ]
  },
  {
   "cell_type": "markdown",
   "metadata": {},
   "source": [
    "## 第二題【感恩讚嘆機器人】：\n",
    "\n",
    "<h3>\n",
    "請依照老師本週影片的作法，\n",
    "製作出感恩讚嘆機器人，\n",
    "也就是回應的格式一律是：\n",
    "「感恩ＯＯ，讚嘆ＯＯ。」\n",
    "\n",
    " 範例：\n",
    "\n",
    "「嗨，今天天氣很好，要一起去洞爺湖喝茶吃魚嗎？」\n",
    "\n",
    "『感恩炎龍，讚嘆炎龍。』"
   ]
  },
  {
   "cell_type": "code",
   "execution_count": null,
   "metadata": {},
   "outputs": [],
   "source": [
    "message = \"\"\n",
    "while message != \"掰掰\":\n",
    "    message = input(\"<< \")\n",
    "    print(\">> 感恩師父，讚嘆師父\")"
   ]
  },
  {
   "cell_type": "markdown",
   "metadata": {},
   "source": [
    "<h2>\n",
    "第三題 【寫個函數讓字串倒過來排】：\n",
    "<h3>\n",
    "寫一個函數, 比如說叫 reverse,\n",
    "\n",
    "然後輸入一個字串,\n",
    "\n",
    "st = “hello”\n",
    "\n",
    "reverse(“hello”)\n",
    "\n",
    "就回傳這個字串\n",
    "\n",
    "‘olleh’"
   ]
  },
  {
   "cell_type": "code",
   "execution_count": null,
   "metadata": {},
   "outputs": [],
   "source": [
    "def reverse(string):\n",
    "    string = list(string)\n",
    "    string.reverse()\n",
    "    print(\"\".join(string))"
   ]
  },
  {
   "cell_type": "code",
   "execution_count": null,
   "metadata": {},
   "outputs": [],
   "source": [
    "reverse(\"racecar\")"
   ]
  },
  {
   "cell_type": "markdown",
   "metadata": {},
   "source": [
    "<h2>\n",
    "挑戰題一【天干地支】：\n",
    "\n",
    "<h3>\n",
    "年份是用天干地支\n",
    "\n",
    "<h3>\n",
    "天干:甲乙丙丁戊己庚辛壬癸\n",
    "\n",
    "地支:子丑寅卯辰巳午未申酉戌亥\n",
    "\n",
    "2014年是甲午年\n",
    "\n",
    "2015年是乙未年\n",
    "\n",
    "…\n",
    "\n",
    "輸出2014~2073是什麼年\n",
    "\n",
    " "
   ]
  },
  {
   "cell_type": "code",
   "execution_count": null,
   "metadata": {},
   "outputs": [],
   "source": [
    "天干 = list(\"甲乙丙丁戊己庚辛壬癸\")\n",
    "地支 = list(\"子丑寅卯辰巳午未申酉戌亥\")"
   ]
  },
  {
   "cell_type": "code",
   "execution_count": null,
   "metadata": {},
   "outputs": [],
   "source": [
    "year = 2013\n",
    "x = 9\n",
    "y = 5\n",
    "for i in range(2074-2014):\n",
    "    x+=1\n",
    "    y+=1\n",
    "    year += 1\n",
    "    if x==len(天干):\n",
    "        x=0\n",
    "    if y==len(地支):\n",
    "        y=0\n",
    "    print(f\"{year}年是{天干[x]}{地支[y]}年\")"
   ]
  },
  {
   "cell_type": "markdown",
   "metadata": {},
   "source": [
    "<h2>挑戰題二【我有一棵樹】：\n",
    "\n",
    "<h3>寫個 tree 函數, 給一個數字就會畫出如下的畫面。"
   ]
  },
  {
   "cell_type": "code",
   "execution_count": null,
   "metadata": {},
   "outputs": [],
   "source": [
    "def tree(x):\n",
    "    for i in range(x):\n",
    "        stars = 2*i+1\n",
    "        print(\"{:^20}\".format(\"*\"*stars))"
   ]
  },
  {
   "cell_type": "code",
   "execution_count": null,
   "metadata": {},
   "outputs": [],
   "source": [
    "tree(5)"
   ]
  },
  {
   "cell_type": "markdown",
   "metadata": {},
   "source": [
    "<h2> 挑戰題三：自己出！"
   ]
  },
  {
   "cell_type": "code",
   "execution_count": null,
   "metadata": {},
   "outputs": [],
   "source": [
    "# 電腦陪你玩31數字小遊戲"
   ]
  },
  {
   "cell_type": "code",
   "execution_count": null,
   "metadata": {},
   "outputs": [],
   "source": [
    "number = list(range(1,32)) #設有1~31 31個數字的List\n",
    "playGame = True\n",
    "while playGame == True:\n",
    "    x = input(\"請喊1~3個數字: \")\n",
    "    player_number = x.split()\n",
    "    if int(player_number[0]) != number[0]:\n",
    "        print (\"從下一個數字開始喊!!!\") \n",
    "    else: \n",
    "        numberCount = len(player_number)\n",
    "        del number[:numberCount]\n",
    "    if len(number)==0:\n",
    "        print(\"You lose!\")\n",
    "        playGame = False\n",
    "        \n",
    "    CPUnumbers = np.random.randint(1, 4)\n",
    "    print(number[:CPUnumbers])\n",
    "    del number[:CPUnumbers]\n",
    "    if len(number)==0:\n",
    "        print(\"You Win!\")\n",
    "        playGame = False"
   ]
  },
  {
   "cell_type": "code",
   "execution_count": null,
   "metadata": {},
   "outputs": [],
   "source": []
  }
 ],
 "metadata": {
  "kernelspec": {
   "display_name": "Python 3",
   "language": "python",
   "name": "python3"
  }
 },
 "nbformat": 4,
 "nbformat_minor": 2
}
