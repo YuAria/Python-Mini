{
 "cells": [
  {
   "cell_type": "markdown",
   "metadata": {},
   "source": [
    "<h2>\n",
    "第一題：抽點系統\n",
    "\n",
    "<h3>\n",
    "老師想做一個抽點系統, 也就是按一個鍵就抽一位同學出來。某班同學有大雄、胖虎、小夫、宜靜、小杉。\n",
    "\n",
    "請幫老師寫個點名系統。\n",
    "\n",
    "\n",
    "### Hint:\n",
    "* interact_manual 用到的函數可以不用有任何參數\n",
    "* np.random.choice 會從一個 list 隨機取一個元素出來"
   ]
  },
  {
   "cell_type": "code",
   "execution_count": 49,
   "metadata": {},
   "outputs": [],
   "source": [
    "import numpy as np\n",
    "import matplotlib.pyplot as plt\n",
    "from ipywidgets import interact, interact_manual"
   ]
  },
  {
   "cell_type": "code",
   "execution_count": 11,
   "metadata": {},
   "outputs": [],
   "source": [
    "students = [\"大雄\", \"胖虎\", \"小夫\", \"宜靜\", \"小杉\"]"
   ]
  },
  {
   "cell_type": "code",
   "execution_count": 23,
   "metadata": {},
   "outputs": [],
   "source": [
    "def pick():\n",
    "    x = np.random.choice(students)\n",
    "    return(print(x))"
   ]
  },
  {
   "cell_type": "code",
   "execution_count": 41,
   "metadata": {},
   "outputs": [
    {
     "data": {
      "application/vnd.jupyter.widget-view+json": {
       "model_id": "710b0cbd9cbc44e29c22dd49fc05c2e7",
       "version_major": 2,
       "version_minor": 0
      },
      "text/plain": [
       "interactive(children=(Button(description='Run Interact', style=ButtonStyle()), Output()), _dom_classes=('widge…"
      ]
     },
     "metadata": {},
     "output_type": "display_data"
    }
   ],
   "source": [
    "interact_manual(pick);"
   ]
  },
  {
   "cell_type": "markdown",
   "metadata": {},
   "source": [
    "## 第二題：變長變短\n",
    "\n",
    "### 做一個數值滑桿, 數字變大某個 bar 就變長或變短。\n",
    "### bar = \"■\""
   ]
  },
  {
   "cell_type": "code",
   "execution_count": 35,
   "metadata": {},
   "outputs": [],
   "source": [
    "def bar(x):\n",
    "    return print(\"■\"*x)"
   ]
  },
  {
   "cell_type": "code",
   "execution_count": 36,
   "metadata": {},
   "outputs": [
    {
     "name": "stdout",
     "output_type": "stream",
     "text": [
      "■■■■■■■■■■■■\n"
     ]
    }
   ],
   "source": [
    "bar(12)"
   ]
  },
  {
   "cell_type": "code",
   "execution_count": 42,
   "metadata": {},
   "outputs": [
    {
     "data": {
      "application/vnd.jupyter.widget-view+json": {
       "model_id": "ef86fa9ae509499aaded71a12b454e9c",
       "version_major": 2,
       "version_minor": 0
      },
      "text/plain": [
       "interactive(children=(IntSlider(value=25, description='x', max=50, min=1), Output()), _dom_classes=('widget-in…"
      ]
     },
     "metadata": {},
     "output_type": "display_data"
    }
   ],
   "source": [
    "interact(bar, x = (1, 50));"
   ]
  },
  {
   "cell_type": "markdown",
   "metadata": {},
   "source": [
    "## 第三題：\n",
    "### 定義一個函數，使用interact的功能改變函數裡的變數，並將圖畫出來，讓圖片隨著數值滑桿變動"
   ]
  },
  {
   "cell_type": "code",
   "execution_count": 54,
   "metadata": {},
   "outputs": [],
   "source": [
    "def x_squared(n = 1):\n",
    "    x = np.linspace(-5, 5, 1000)\n",
    "    y = n * x ** n\n",
    "    plt.plot(x, y)"
   ]
  },
  {
   "cell_type": "code",
   "execution_count": 56,
   "metadata": {},
   "outputs": [
    {
     "data": {
      "application/vnd.jupyter.widget-view+json": {
       "model_id": "44b50884f72343ef995112658c2fec03",
       "version_major": 2,
       "version_minor": 0
      },
      "text/plain": [
       "interactive(children=(IntSlider(value=1, description='n', max=20, min=-20), Output()), _dom_classes=('widget-i…"
      ]
     },
     "metadata": {},
     "output_type": "display_data"
    }
   ],
   "source": [
    "interact(x_squared, n = (-20, 20));"
   ]
  },
  {
   "cell_type": "markdown",
   "metadata": {},
   "source": [
    "<h2>\n",
    "挑戰題一：考試加權分數\n",
    "\n",
    "\n",
    "###  小明今年考大學\n",
    "###  依照 [國, 英, 數甲, 數乙, 物, 化, 生, 歷, 地, 公]\n",
    "###  他的分數分別是 [86.5, 79.4, 88.2, 96.5, 86.3, 76.8, 96.1, 78.5, 82.4, 88.6]\n",
    "###  而他所想申請的大學各系採計的科目權重分別是\n",
    "###  {\n",
    "###  \"土語系\": [2, 2, 0, 1, 0, 0, 0, 1, 1, 0],\n",
    "###  \"財政系\": [1, 1.5, 0, 1.5, 0, 0, 0, 0, 0, 0],\n",
    "###  \"金融系\": [1, 1.5, 0, 2, 0, 0, 0, 0, 0, 0],\n",
    "###  \"國貿系\": [1.5, 2, 0, 2, 0, 0, 0, 0, 0, 0],\n",
    "###  \"會計系\": [1.5, 2, 0, 2, 0, 0, 0, 1, 1, 0],\n",
    "###  \"法律系\": [1, 2, 0, 1, 0, 0, 0, 1, 0, 1],\n",
    "###  \"公行系\": [1, 1.5, 0, 1.25, 0, 0, 0, 0, 0, 1.25],\n",
    "###  \"應數系\": [1, 1, 1.5, 0, 1, 1, 0, 0, 0, 0],\n",
    "###  \"教育系\": [1.5, 2, 0, 1.25, 0, 0, 0, 1, 1, 0]\n",
    "###  } \n",
    "\n",
    "###  請幫他做出一個互動介面\n",
    "###  讓他在選擇科系後可以看到他的加權分數\n",
    "###  取到小數點後第一位"
   ]
  },
  {
   "cell_type": "code",
   "execution_count": 61,
   "metadata": {},
   "outputs": [],
   "source": [
    "scores = np.array([86.5, 79.4, 88.2, 96.5, 86.3, 76.8, 96.1, 78.5, 82.4, 88.6])\n",
    "major = {\n",
    "\"土語系\": np.array([2, 2, 0, 1, 0, 0, 0, 1, 1, 0]),\n",
    "\"財政系\": np.array([1, 1.5, 0, 1.5, 0, 0, 0, 0, 0, 0]),\n",
    "\"金融系\": np.array([1, 1.5, 0, 2, 0, 0, 0, 0, 0, 0]),\n",
    "\"國貿系\": np.array([1.5, 2, 0, 2, 0, 0, 0, 0, 0, 0]),\n",
    "\"會計系\": np.array([1.5, 2, 0, 2, 0, 0, 0, 1, 1, 0]),\n",
    "\"法律系\": np.array([1, 2, 0, 1, 0, 0, 0, 1, 0, 1]),\n",
    "\"公行系\": np.array([1, 1.5, 0, 1.25, 0, 0, 0, 0, 0, 1.25]),\n",
    "\"應數系\": np.array([1, 1, 1.5, 0, 1, 1, 0, 0, 0, 0]),\n",
    "\"教育系\": np.array([1.5, 2, 0, 1.25, 0, 0, 0, 1, 1, 0])\n",
    "} "
   ]
  },
  {
   "cell_type": "code",
   "execution_count": 81,
   "metadata": {},
   "outputs": [],
   "source": [
    "def weighted_score(Department):\n",
    "    return print(f\"加權成績: {sum(major[Department] * scores).round(1)}\")"
   ]
  },
  {
   "cell_type": "code",
   "execution_count": 82,
   "metadata": {},
   "outputs": [
    {
     "data": {
      "application/vnd.jupyter.widget-view+json": {
       "model_id": "9c548372c868466f8e5b6488267ce971",
       "version_major": 2,
       "version_minor": 0
      },
      "text/plain": [
       "interactive(children=(Dropdown(description='Department', options=('土語系', '財政系', '金融系', '國貿系', '會計系', '法律系', '公…"
      ]
     },
     "metadata": {},
     "output_type": "display_data"
    }
   ],
   "source": [
    "interact(weighted_score, Department = major.keys());"
   ]
  },
  {
   "cell_type": "code",
   "execution_count": null,
   "metadata": {},
   "outputs": [],
   "source": []
  }
 ],
 "metadata": {
  "kernelspec": {
   "display_name": "Python 3",
   "language": "python",
   "name": "python3"
  },
  "language_info": {
   "codemirror_mode": {
    "name": "ipython",
    "version": 3
   },
   "file_extension": ".py",
   "mimetype": "text/x-python",
   "name": "python",
   "nbconvert_exporter": "python",
   "pygments_lexer": "ipython3",
   "version": "3.6.5"
  }
 },
 "nbformat": 4,
 "nbformat_minor": 2
}
