{
 "cells": [
  {
   "cell_type": "markdown",
   "metadata": {},
   "source": [
    "<h2>第一題_算閏年：\n",
    "<h3>請定義一個函式，讀進一個年份，輸出是不是閏年。\n",
    "\n",
    "### 提示：\n",
    "### 目前使用的格里高利曆閏年規則如下：\n",
    "\n",
    "### 4的倍數是可能的。\n",
    "### 100的倍數是不可能的。\n",
    "### 400的倍數是可能的。"
   ]
  },
  {
   "cell_type": "code",
   "execution_count": 11,
   "metadata": {},
   "outputs": [],
   "source": [
    "def lunar(x):\n",
    "    if x%400 == 0:\n",
    "        isLunar = True\n",
    "    elif x%100 == 0:\n",
    "        isLunar = False\n",
    "    elif x%4 == 0:\n",
    "        isLunar = True\n",
    "    else:\n",
    "        isLunar = False\n",
    "    \n",
    "    if isLunar:\n",
    "        return str(x)+\"年是閏年\"\n",
    "    else:\n",
    "        return str(x)+\"年不是閏年\""
   ]
  },
  {
   "cell_type": "code",
   "execution_count": 16,
   "metadata": {},
   "outputs": [
    {
     "data": {
      "text/plain": [
       "'1985年不是閏年'"
      ]
     },
     "execution_count": 16,
     "metadata": {},
     "output_type": "execute_result"
    }
   ],
   "source": [
    "lunar(1985)"
   ]
  },
  {
   "cell_type": "code",
   "execution_count": 17,
   "metadata": {},
   "outputs": [
    {
     "data": {
      "text/plain": [
       "'1996年是閏年'"
      ]
     },
     "execution_count": 17,
     "metadata": {},
     "output_type": "execute_result"
    }
   ],
   "source": [
    "lunar(1996)"
   ]
  },
  {
   "cell_type": "code",
   "execution_count": 18,
   "metadata": {},
   "outputs": [
    {
     "data": {
      "text/plain": [
       "'2100年不是閏年'"
      ]
     },
     "execution_count": 18,
     "metadata": {},
     "output_type": "execute_result"
    }
   ],
   "source": [
    "lunar(2100)"
   ]
  },
  {
   "cell_type": "code",
   "execution_count": 19,
   "metadata": {},
   "outputs": [
    {
     "data": {
      "text/plain": [
       "'2400年是閏年'"
      ]
     },
     "execution_count": 19,
     "metadata": {},
     "output_type": "execute_result"
    }
   ],
   "source": [
    "lunar(2400)"
   ]
  },
  {
   "cell_type": "markdown",
   "metadata": {},
   "source": [
    "## 第二題_請實作五乘五矩陣的矩陣加法函式："
   ]
  },
  {
   "cell_type": "code",
   "execution_count": 22,
   "metadata": {},
   "outputs": [],
   "source": [
    "import numpy as np"
   ]
  },
  {
   "cell_type": "code",
   "execution_count": 29,
   "metadata": {},
   "outputs": [],
   "source": [
    "def add(a, b):\n",
    "    output = np.zeros((5, 5), dtype = int)\n",
    "    for i in range(5):\n",
    "        for j in range(5):\n",
    "            output[i][j] = a[i][j] + b[i][j]\n",
    "    return output"
   ]
  },
  {
   "cell_type": "code",
   "execution_count": 30,
   "metadata": {},
   "outputs": [],
   "source": [
    "a = np.random.randint(1, 6, (5, 5))\n",
    "b = np.random.randint(1, 6, (5, 5))"
   ]
  },
  {
   "cell_type": "code",
   "execution_count": 31,
   "metadata": {},
   "outputs": [
    {
     "data": {
      "text/plain": [
       "array([[1, 2, 5, 3, 1],\n",
       "       [5, 3, 3, 2, 2],\n",
       "       [2, 3, 5, 1, 1],\n",
       "       [3, 1, 3, 2, 3],\n",
       "       [1, 1, 2, 1, 5]])"
      ]
     },
     "execution_count": 31,
     "metadata": {},
     "output_type": "execute_result"
    }
   ],
   "source": [
    "a"
   ]
  },
  {
   "cell_type": "code",
   "execution_count": 32,
   "metadata": {},
   "outputs": [
    {
     "data": {
      "text/plain": [
       "array([[1, 1, 4, 4, 5],\n",
       "       [2, 4, 2, 2, 3],\n",
       "       [5, 1, 5, 3, 2],\n",
       "       [3, 1, 3, 2, 3],\n",
       "       [3, 4, 4, 5, 1]])"
      ]
     },
     "execution_count": 32,
     "metadata": {},
     "output_type": "execute_result"
    }
   ],
   "source": [
    "b"
   ]
  },
  {
   "cell_type": "code",
   "execution_count": 33,
   "metadata": {},
   "outputs": [
    {
     "data": {
      "text/plain": [
       "array([[ 2,  3,  9,  7,  6],\n",
       "       [ 7,  7,  5,  4,  5],\n",
       "       [ 7,  4, 10,  4,  3],\n",
       "       [ 6,  2,  6,  4,  6],\n",
       "       [ 4,  5,  6,  6,  6]])"
      ]
     },
     "execution_count": 33,
     "metadata": {},
     "output_type": "execute_result"
    }
   ],
   "source": [
    "add(a, b)"
   ]
  },
  {
   "cell_type": "markdown",
   "metadata": {},
   "source": [
    "<h2>\n",
    "第三題_錄取分數表格\n",
    "<h4>\n",
    "小明今年考大學\n",
    "<h4>\n",
    "依照 [“國文”, “英文”, “數甲”, “數乙”, “物理”, “化學”, “生物”, “歷史”, “地理”, “公民”]\n",
    "<h4>\n",
    "他的分數分別是 [86.5, 79.4, 88.2, 96.5, 86.3, 76.8, 96.1, 78.5, 82.4, 88.6]\n",
    "<h4>\n",
    "而他所想申請的大學各系採計的科目權重分別是\n",
    " \n",
    "<h4>{\n",
    "<h4>“土語系”: [2, 2, 0, 1, 0, 0, 0, 1, 1, 0],\n",
    "<h4>“財政系”: [1, 1.5, 0, 1.5, 0, 0, 0, 0, 0, 0],\n",
    "<h4>“金融系”: [1, 1.5, 0, 2, 0, 0, 0, 0, 0, 0],\n",
    "<h4>“國貿系”: [1.5, 2, 0, 2, 0, 0, 0, 0, 0, 0],\n",
    "<h4>“會計系”: [1.5, 2, 0, 2, 0, 0, 0, 1, 1, 0],\n",
    "<h4>“法律系”: [1, 2, 0, 1, 0, 0, 0, 1, 0, 1],\n",
    "<h4>“公行系”: [1, 1.5, 0, 1.25, 0, 0, 0, 0, 0, 1.25],\n",
    "<h4>“應數系”: [1, 1, 1.5, 0, 1, 1, 0, 0, 0, 0],\n",
    "<h4>“教育系”: [1.5, 2, 0, 1.25, 0, 0, 0, 1, 1, 0]\n",
    "<h4>}\n",
    "\n",
    "<h4>請幫他做出一個表格\n",
    "<h4>第一欄顯示科系\n",
    "<h4>接下來顯示權重 並標示科目\n",
    "<h4>最後一欄顯示加權分數"
   ]
  },
  {
   "cell_type": "code",
   "execution_count": 87,
   "metadata": {},
   "outputs": [],
   "source": [
    "import pandas as pd"
   ]
  },
  {
   "cell_type": "code",
   "execution_count": 88,
   "metadata": {},
   "outputs": [],
   "source": [
    "weights = np.array([\n",
    "[2, 2, 0, 1, 0, 0, 0, 1, 1, 0],\n",
    "[1, 1.5, 0, 1.5, 0, 0, 0, 0, 0, 0],\n",
    "[1, 1.5, 0, 2, 0, 0, 0, 0, 0, 0],\n",
    "[1.5, 2, 0, 2, 0, 0, 0, 0, 0, 0],\n",
    "[1.5, 2, 0, 2, 0, 0, 0, 1, 1, 0],\n",
    "[1, 2, 0, 1, 0, 0, 0, 1, 0, 1],\n",
    "[1, 1.5, 0, 1.25, 0, 0, 0, 0, 0, 1.25],\n",
    "[1, 1, 1.5, 0, 1, 1, 0, 0, 0, 0],\n",
    "[1.5, 2, 0, 1.25, 0, 0, 0, 1, 1, 0]\n",
    "])"
   ]
  },
  {
   "cell_type": "code",
   "execution_count": 89,
   "metadata": {},
   "outputs": [],
   "source": [
    "majors = ['土語系', '財政系', '金融系', '國貿系', '會計系', '法律系', '公行系', '應數系', '教育系']\n",
    "subjects = [\"國文\", \"英文\", \"數甲\", \"數乙\", \"物理\", \"化學\", \"生物\", \"歷史\", \"地理\", \"公民\"]\n",
    "scores = [86.5, 79.4, 88.2, 96.5, 86.3, 76.8, 96.1, 78.5, 82.4, 88.6]"
   ]
  },
  {
   "cell_type": "code",
   "execution_count": 90,
   "metadata": {},
   "outputs": [],
   "source": [
    "data = pd.DataFrame(data = weights, index = majors, columns = subjects)\n",
    "data[\"加權分數\"] = (scores*weights).sum(axis = 1)"
   ]
  },
  {
   "cell_type": "code",
   "execution_count": 91,
   "metadata": {},
   "outputs": [
    {
     "data": {
      "text/html": [
       "<div>\n",
       "<style scoped>\n",
       "    .dataframe tbody tr th:only-of-type {\n",
       "        vertical-align: middle;\n",
       "    }\n",
       "\n",
       "    .dataframe tbody tr th {\n",
       "        vertical-align: top;\n",
       "    }\n",
       "\n",
       "    .dataframe thead th {\n",
       "        text-align: right;\n",
       "    }\n",
       "</style>\n",
       "<table border=\"1\" class=\"dataframe\">\n",
       "  <thead>\n",
       "    <tr style=\"text-align: right;\">\n",
       "      <th></th>\n",
       "      <th>國文</th>\n",
       "      <th>英文</th>\n",
       "      <th>數甲</th>\n",
       "      <th>數乙</th>\n",
       "      <th>物理</th>\n",
       "      <th>化學</th>\n",
       "      <th>生物</th>\n",
       "      <th>歷史</th>\n",
       "      <th>地理</th>\n",
       "      <th>公民</th>\n",
       "      <th>加權分數</th>\n",
       "    </tr>\n",
       "  </thead>\n",
       "  <tbody>\n",
       "    <tr>\n",
       "      <td>土語系</td>\n",
       "      <td>2.0</td>\n",
       "      <td>2.0</td>\n",
       "      <td>0.0</td>\n",
       "      <td>1.00</td>\n",
       "      <td>0.0</td>\n",
       "      <td>0.0</td>\n",
       "      <td>0.0</td>\n",
       "      <td>1.0</td>\n",
       "      <td>1.0</td>\n",
       "      <td>0.00</td>\n",
       "      <td>589.200</td>\n",
       "    </tr>\n",
       "    <tr>\n",
       "      <td>財政系</td>\n",
       "      <td>1.0</td>\n",
       "      <td>1.5</td>\n",
       "      <td>0.0</td>\n",
       "      <td>1.50</td>\n",
       "      <td>0.0</td>\n",
       "      <td>0.0</td>\n",
       "      <td>0.0</td>\n",
       "      <td>0.0</td>\n",
       "      <td>0.0</td>\n",
       "      <td>0.00</td>\n",
       "      <td>350.350</td>\n",
       "    </tr>\n",
       "    <tr>\n",
       "      <td>金融系</td>\n",
       "      <td>1.0</td>\n",
       "      <td>1.5</td>\n",
       "      <td>0.0</td>\n",
       "      <td>2.00</td>\n",
       "      <td>0.0</td>\n",
       "      <td>0.0</td>\n",
       "      <td>0.0</td>\n",
       "      <td>0.0</td>\n",
       "      <td>0.0</td>\n",
       "      <td>0.00</td>\n",
       "      <td>398.600</td>\n",
       "    </tr>\n",
       "    <tr>\n",
       "      <td>國貿系</td>\n",
       "      <td>1.5</td>\n",
       "      <td>2.0</td>\n",
       "      <td>0.0</td>\n",
       "      <td>2.00</td>\n",
       "      <td>0.0</td>\n",
       "      <td>0.0</td>\n",
       "      <td>0.0</td>\n",
       "      <td>0.0</td>\n",
       "      <td>0.0</td>\n",
       "      <td>0.00</td>\n",
       "      <td>481.550</td>\n",
       "    </tr>\n",
       "    <tr>\n",
       "      <td>會計系</td>\n",
       "      <td>1.5</td>\n",
       "      <td>2.0</td>\n",
       "      <td>0.0</td>\n",
       "      <td>2.00</td>\n",
       "      <td>0.0</td>\n",
       "      <td>0.0</td>\n",
       "      <td>0.0</td>\n",
       "      <td>1.0</td>\n",
       "      <td>1.0</td>\n",
       "      <td>0.00</td>\n",
       "      <td>642.450</td>\n",
       "    </tr>\n",
       "    <tr>\n",
       "      <td>法律系</td>\n",
       "      <td>1.0</td>\n",
       "      <td>2.0</td>\n",
       "      <td>0.0</td>\n",
       "      <td>1.00</td>\n",
       "      <td>0.0</td>\n",
       "      <td>0.0</td>\n",
       "      <td>0.0</td>\n",
       "      <td>1.0</td>\n",
       "      <td>0.0</td>\n",
       "      <td>1.00</td>\n",
       "      <td>508.900</td>\n",
       "    </tr>\n",
       "    <tr>\n",
       "      <td>公行系</td>\n",
       "      <td>1.0</td>\n",
       "      <td>1.5</td>\n",
       "      <td>0.0</td>\n",
       "      <td>1.25</td>\n",
       "      <td>0.0</td>\n",
       "      <td>0.0</td>\n",
       "      <td>0.0</td>\n",
       "      <td>0.0</td>\n",
       "      <td>0.0</td>\n",
       "      <td>1.25</td>\n",
       "      <td>436.975</td>\n",
       "    </tr>\n",
       "    <tr>\n",
       "      <td>應數系</td>\n",
       "      <td>1.0</td>\n",
       "      <td>1.0</td>\n",
       "      <td>1.5</td>\n",
       "      <td>0.00</td>\n",
       "      <td>1.0</td>\n",
       "      <td>1.0</td>\n",
       "      <td>0.0</td>\n",
       "      <td>0.0</td>\n",
       "      <td>0.0</td>\n",
       "      <td>0.00</td>\n",
       "      <td>461.300</td>\n",
       "    </tr>\n",
       "    <tr>\n",
       "      <td>教育系</td>\n",
       "      <td>1.5</td>\n",
       "      <td>2.0</td>\n",
       "      <td>0.0</td>\n",
       "      <td>1.25</td>\n",
       "      <td>0.0</td>\n",
       "      <td>0.0</td>\n",
       "      <td>0.0</td>\n",
       "      <td>1.0</td>\n",
       "      <td>1.0</td>\n",
       "      <td>0.00</td>\n",
       "      <td>570.075</td>\n",
       "    </tr>\n",
       "  </tbody>\n",
       "</table>\n",
       "</div>"
      ],
      "text/plain": [
       "      國文   英文   數甲    數乙   物理   化學   生物   歷史   地理    公民     加權分數\n",
       "土語系  2.0  2.0  0.0  1.00  0.0  0.0  0.0  1.0  1.0  0.00  589.200\n",
       "財政系  1.0  1.5  0.0  1.50  0.0  0.0  0.0  0.0  0.0  0.00  350.350\n",
       "金融系  1.0  1.5  0.0  2.00  0.0  0.0  0.0  0.0  0.0  0.00  398.600\n",
       "國貿系  1.5  2.0  0.0  2.00  0.0  0.0  0.0  0.0  0.0  0.00  481.550\n",
       "會計系  1.5  2.0  0.0  2.00  0.0  0.0  0.0  1.0  1.0  0.00  642.450\n",
       "法律系  1.0  2.0  0.0  1.00  0.0  0.0  0.0  1.0  0.0  1.00  508.900\n",
       "公行系  1.0  1.5  0.0  1.25  0.0  0.0  0.0  0.0  0.0  1.25  436.975\n",
       "應數系  1.0  1.0  1.5  0.00  1.0  1.0  0.0  0.0  0.0  0.00  461.300\n",
       "教育系  1.5  2.0  0.0  1.25  0.0  0.0  0.0  1.0  1.0  0.00  570.075"
      ]
     },
     "execution_count": 91,
     "metadata": {},
     "output_type": "execute_result"
    }
   ],
   "source": [
    "data"
   ]
  },
  {
   "cell_type": "markdown",
   "metadata": {},
   "source": [
    "## 挑戰題一_Bubble Sort\n",
    "### Geoffrey是個喜歡自動化的老師，某次期中考過後，他想要把學生的成績用電腦自動排序，於是他請Andrew幫忙開發這個高難度的程式…\n",
    "\n",
    "### 限制：不可以使用Python內建的sort()\n",
    "\n",
    "### 提示：\n",
    "\n",
    "### 每回合都把該回合範圍內最小的數搬到最左邊，最後就可以排好所有的數\n",
    "### 搬運的方式可以透過兩兩互換"
   ]
  },
  {
   "cell_type": "code",
   "execution_count": 103,
   "metadata": {},
   "outputs": [],
   "source": [
    "score = [60, 90, 50, 78, 82, 54, 30, 89, 70]"
   ]
  },
  {
   "cell_type": "code",
   "execution_count": 104,
   "metadata": {},
   "outputs": [],
   "source": [
    "def sort(a):\n",
    "    for i in range(len(a)):\n",
    "        min_value = min(a[i:len(a)])\n",
    "        a.remove(min_value)\n",
    "        a.insert(i, min_value)\n",
    "    return a"
   ]
  },
  {
   "cell_type": "code",
   "execution_count": 105,
   "metadata": {},
   "outputs": [
    {
     "data": {
      "text/plain": [
       "[30, 50, 54, 60, 70, 78, 82, 89, 90]"
      ]
     },
     "execution_count": 105,
     "metadata": {},
     "output_type": "execute_result"
    }
   ],
   "source": [
    "sort(score)"
   ]
  },
  {
   "cell_type": "code",
   "execution_count": null,
   "metadata": {},
   "outputs": [],
   "source": []
  }
 ],
 "metadata": {
  "kernelspec": {
   "display_name": "Python 3",
   "language": "python",
   "name": "python3"
  },
  "language_info": {
   "codemirror_mode": {
    "name": "ipython",
    "version": 3
   },
   "file_extension": ".py",
   "mimetype": "text/x-python",
   "name": "python",
   "nbconvert_exporter": "python",
   "pygments_lexer": "ipython3",
   "version": "3.6.5"
  }
 },
 "nbformat": 4,
 "nbformat_minor": 2
}
