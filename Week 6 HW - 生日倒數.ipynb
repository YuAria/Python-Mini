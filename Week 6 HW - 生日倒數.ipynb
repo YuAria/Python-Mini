{
 "cells": [
  {
   "cell_type": "markdown",
   "metadata": {},
   "source": [
    "# 距離你下次生日剩下幾天呢?\n",
    "### (datetime.date的小 "
   ]
  },
  {
   "cell_type": "code",
   "execution_count": 1,
   "metadata": {},
   "outputs": [],
   "source": [
    "from datetime import date\n",
    "from IPython.display import Markdown"
   ]
  },
  {
   "cell_type": "code",
   "execution_count": 5,
   "metadata": {},
   "outputs": [
    {
     "data": {
      "text/markdown": [
       "## 距離你下次生日剩下幾天呢?"
      ],
      "text/plain": [
       "<IPython.core.display.Markdown object>"
      ]
     },
     "metadata": {},
     "output_type": "display_data"
    },
    {
     "name": "stdout",
     "output_type": "stream",
     "text": [
      "你的名字是: ccc\n",
      "你的出生年月日是? (輸入西元年/月/日): 2000/1/20\n",
      "距離ccc的19歲生日還剩下92天!\n"
     ]
    }
   ],
   "source": [
    "title = Markdown(\"## 距離你下次生日剩下幾天呢?\")\n",
    "display(title)\n",
    "\n",
    "name = input(\"你的名字是: \")\n",
    "birthday = input(\"你的出生年月日是? (輸入西元年/月/日): \")\n",
    "year, month, day = birthday.split(sep = '/')\n",
    "birthday = date(int(year), int(month), int(day))\n",
    "\n",
    "if date(date.today().year, int(month), int(day)) == date.today():\n",
    "    birthday_number = date.today().year - int(year)\n",
    "    print(f\"生日快樂! 恭喜{name}{birthday_number}歲了!(ﾉ>ω<)ﾉ\")\n",
    "    \n",
    "elif date(date.today().year, int(month), int(day)) < date.today():\n",
    "    birthday_number = date.today().year - int(year)    \n",
    "    birthday = birthday.replace(year = date.today().year+1)\n",
    "    days_left = (birthday - date.today()).days\n",
    "    print(f\"距離{name}的{birthday_number}歲生日還剩下{days_left}天!\")\n",
    "    \n",
    "else:\n",
    "    birthday_number = date.today().year - (int(year)+1)\n",
    "    birthday = birthday.replace(year = date.today().year)\n",
    "    days_left = (birthday - date.today()).days\n",
    "    print(f\"距離{name}的{birthday_number}歲生日還剩下{days_left}天!\")"
   ]
  },
  {
   "cell_type": "code",
   "execution_count": null,
   "metadata": {},
   "outputs": [],
   "source": []
  }
 ],
 "metadata": {
  "kernelspec": {
   "display_name": "Python 3",
   "language": "python",
   "name": "python3"
  },
  "language_info": {
   "codemirror_mode": {
    "name": "ipython",
    "version": 3
   },
   "file_extension": ".py",
   "mimetype": "text/x-python",
   "name": "python",
   "nbconvert_exporter": "python",
   "pygments_lexer": "ipython3",
   "version": "3.6.5"
  }
 },
 "nbformat": 4,
 "nbformat_minor": 2
}
