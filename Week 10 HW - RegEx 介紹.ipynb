{
 "cells": [
  {
   "cell_type": "code",
   "execution_count": 73,
   "metadata": {},
   "outputs": [],
   "source": [
    "import re\n",
    "from PIL import Image"
   ]
  },
  {
   "cell_type": "markdown",
   "metadata": {},
   "source": [
    "### 今天介紹:\n",
    "* notations: ., ^, $, *, +, [], \\s, \\w, \\d\n",
    "* re.findall()"
   ]
  },
  {
   "cell_type": "markdown",
   "metadata": {},
   "source": [
    "### re.findall(pattern, string)的功能會把string裡面所有有這個pattern的sub-string存進一個list裡面。"
   ]
  },
  {
   "cell_type": "markdown",
   "metadata": {},
   "source": [
    "### 例子"
   ]
  },
  {
   "cell_type": "code",
   "execution_count": 23,
   "metadata": {},
   "outputs": [
    {
     "data": {
      "text/plain": [
       "['wolf', 'wolf', 'wolf', 'wolf']"
      ]
     },
     "execution_count": 23,
     "metadata": {},
     "output_type": "execute_result"
    }
   ],
   "source": [
    "re.findall(\"wolf\", \"A wolf that cried wolf was eaten by another wolf that actually isn't a wolf.\")"
   ]
  },
  {
   "cell_type": "markdown",
   "metadata": {},
   "source": [
    "### RegEx特殊字元:\n",
    "#### 1. .   任何一個字元\n",
    "#### 2. ^  以下一個字元開頭\n",
    "#### 3. $  以上一個字元結束\n",
    "#### 4. * 上一個字元連續零次以上\n",
    "#### 5. + 上一個字元連續一次以上\n",
    "#### 6. [  ] 中括號裡任意一個字元\n",
    "#### 7. [A-Z] 任何一個大寫英文字母\n",
    "#### 8. [a-z] 任何一個小寫英文字母\n",
    "#### 9. [0-9] 任何一個數字  (跟\\d相同)\n",
    "#### 10. (  ) 限定擷取範圍"
   ]
  },
  {
   "cell_type": "code",
   "execution_count": 50,
   "metadata": {},
   "outputs": [
    {
     "data": {
      "text/plain": [
       "['hat', 'bat', 'sat', 'mat']"
      ]
     },
     "execution_count": 50,
     "metadata": {},
     "output_type": "execute_result"
    }
   ],
   "source": [
    "# 找所有含有一個任意字元，後面接\"at\"的sub-string\n",
    "re.findall(\".at\", \"A boy wearing a hat with a bat sat next to a mat.\")"
   ]
  },
  {
   "cell_type": "code",
   "execution_count": 68,
   "metadata": {},
   "outputs": [
    {
     "data": {
      "text/plain": [
       "['Sunday']"
      ]
     },
     "execution_count": 68,
     "metadata": {},
     "output_type": "execute_result"
    }
   ],
   "source": [
    "# 找含有以\"S\"開頭，\"y\"結尾，中間任意字元連續零個以上的sub-string\n",
    "re.findall(\"^S.*y$\", \"Sunday\")"
   ]
  },
  {
   "cell_type": "code",
   "execution_count": 58,
   "metadata": {},
   "outputs": [
    {
     "data": {
      "text/plain": [
       "['28', '1']"
      ]
     },
     "execution_count": 58,
     "metadata": {},
     "output_type": "execute_result"
    }
   ],
   "source": [
    "# 找含有數字0-9連續一個以上的sub-string\n",
    "re.findall(\"[0-9]+\", \"學生得修習西語語言相關課程28學分以上並達合格標準，或可提出西檢B1級\")"
   ]
  },
  {
   "cell_type": "code",
   "execution_count": 59,
   "metadata": {},
   "outputs": [
    {
     "data": {
      "text/plain": [
       "['B1']"
      ]
     },
     "execution_count": 59,
     "metadata": {},
     "output_type": "execute_result"
    }
   ],
   "source": [
    "# 要擷取B1時，pattern可以設成找含有一個大寫英文字母，後面接連續一個以上的數字\n",
    "re.findall(\"[A-Z][0-9]+\", \"學生得修習西語語言相關課程28學分以上並達合格標準，或可提出西檢B1級\")"
   ]
  },
  {
   "cell_type": "code",
   "execution_count": 69,
   "metadata": {},
   "outputs": [
    {
     "data": {
      "text/plain": [
       "['B1']"
      ]
     },
     "execution_count": 69,
     "metadata": {},
     "output_type": "execute_result"
    }
   ],
   "source": [
    "# 我們可以依照字串的格式改變pattern。\n",
    "# 例如說我們知道西檢有A1, A2, B1, B2, C1, C2六級，那就只需要找 \"含有一個A,B或C，後面接1或2\" 的sub-string即可\n",
    "re.findall(\"[ABC][12]\", \"學生得修習西語語言相關課程28學分以上並達合格標準，或可提出西檢B1級\")"
   ]
  },
  {
   "cell_type": "code",
   "execution_count": 67,
   "metadata": {},
   "outputs": [
    {
     "data": {
      "text/plain": [
       "['TOEFL iBT 75']"
      ]
     },
     "execution_count": 67,
     "metadata": {},
     "output_type": "execute_result"
    }
   ],
   "source": [
    "# 括號的用途在於可以在找到符合條件的substring之後，限制substring被擷取的範圍。 例:\n",
    "re.findall(\"TOEFL iBT [0-9]+\",\"TOEFL iBT 75；學生得修習波蘭語語言相關課程6學分以上並達合格標準\")"
   ]
  },
  {
   "cell_type": "code",
   "execution_count": 71,
   "metadata": {},
   "outputs": [
    {
     "data": {
      "text/plain": [
       "['75']"
      ]
     },
     "execution_count": 71,
     "metadata": {},
     "output_type": "execute_result"
    }
   ],
   "source": [
    "# 如果我們只需要成績本身，可以把\"[0-9]+\"用括號括起來。\n",
    "re.findall(\"TOEFL iBT ([0-9]+)\",\"TOEFL iBT 75；學生得修習波蘭語語言相關課程6學分以上並達合格標準\")"
   ]
  },
  {
   "cell_type": "markdown",
   "metadata": {},
   "source": [
    "### 其他RegEx的功能:\n",
    "* re.search()\n",
    "* re.sub()\n",
    "* re.split()\n",
    "* 還有很多!"
   ]
  },
  {
   "cell_type": "markdown",
   "metadata": {},
   "source": [
    "### 這邊介紹一下相關資源:\n",
    "* RegEx互動: https://regexr.com/\n",
    "<img src=\"Regex1.png\">\n",
    "* PY4E(Python for Everybody) RegEx: https://www.py4e.com/lessons/regex\n",
    "<img src=\"Regex2.png\">"
   ]
  },
  {
   "cell_type": "code",
   "execution_count": null,
   "metadata": {},
   "outputs": [],
   "source": []
  }
 ],
 "metadata": {
  "kernelspec": {
   "display_name": "Python 3",
   "language": "python",
   "name": "python3"
  },
  "language_info": {
   "codemirror_mode": {
    "name": "ipython",
    "version": 3
   },
   "file_extension": ".py",
   "mimetype": "text/x-python",
   "name": "python",
   "nbconvert_exporter": "python",
   "pygments_lexer": "ipython3",
   "version": "3.6.5"
  }
 },
 "nbformat": 4,
 "nbformat_minor": 2
}
